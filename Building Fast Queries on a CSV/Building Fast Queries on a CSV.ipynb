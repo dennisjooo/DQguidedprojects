{
 "cells": [
  {
   "cell_type": "markdown",
   "metadata": {},
   "source": [
    "# Building Fast Queries on a CSV\n",
    "---\n",
    "We will imagine that we own an online laptop store and want to build a way to answer a few different business questions about our inventory.\n",
    "\n",
    "We will use the `laptops.csv` file as our inventory. This CSV file was adapted from the [Laptop Prices dataset on Kaggle](https://www.kaggle.com/ionaskel/laptop-prices). We changed the IDs and made the prices integers.\n",
    "\n",
    "Here is a brief description of the rows:\n",
    "\n",
    "- **ID**: A unique identifier for the laptop.\n",
    "- **Company**: The name of the company that produces the laptop.\n",
    "- **Product**: The name of the laptop.\n",
    "- **TypeName**: The type of laptop.\n",
    "- **Inches**: The size of the screen in inches.\n",
    "- **ScreenResolution**: The resolution of the screen.\n",
    "- **CPU**: The laptop CPU.\n",
    "- **RAM**: The amount of RAM in the laptop.\n",
    "- **Memory**: The size of the hard drive.\n",
    "- **GPU**: The graphics card name.\n",
    "- **OpSys**: The name of the operating system.\n",
    "- **Weight**: The laptop weight.\n",
    "- **Price**: The price of the laptop.\n",
    "\n",
    "The goal of this guided project is to create a class that represents our inventory. The methods in that class will implement the queries that we want to answer about our inventory. We will also preprocess that data to make those queries run faster.\n",
    "\n",
    "Here are some queries that we will want to answer:\n",
    "\n",
    "- Given a laptop id, find the corresponding data.\n",
    "- Given an amount of money, find whether there are two laptops whose total price is that given amount.\n",
    "- Identify all laptops whose price falls within a given budget."
   ]
  },
  {
   "cell_type": "markdown",
   "metadata": {},
   "source": [
    "## 1. Prerequisites"
   ]
  },
  {
   "cell_type": "code",
   "execution_count": 12,
   "metadata": {},
   "outputs": [],
   "source": [
    "# Importing the library\n",
    "import csv\n",
    "import time                                                     \n",
    "import random \n",
    "\n",
    "# Importing the data\n",
    "with open('laptops.csv') as dat:\n",
    "    reader = csv.reader(dat)\n",
    "    rows = list(reader)\n",
    "    header = rows[0]\n",
    "    rows = rows[1:]"
   ]
  },
  {
   "cell_type": "code",
   "execution_count": 2,
   "metadata": {},
   "outputs": [
    {
     "name": "stdout",
     "output_type": "stream",
     "text": [
      "['Id', 'Company', 'Product', 'TypeName', 'Inches', 'ScreenResolution', 'Cpu', 'Ram', 'Memory', 'Gpu', 'OpSys', 'Weight', 'Price'] \n",
      "\n",
      "['6571244', 'Apple', 'MacBook Pro', 'Ultrabook', '13.3', 'IPS Panel Retina Display 2560x1600', 'Intel Core i5 2.3GHz', '8GB', '128GB SSD', 'Intel Iris Plus Graphics 640', 'macOS', '1.37kg', '1339']\n",
      "['7287764', 'Apple', 'Macbook Air', 'Ultrabook', '13.3', '1440x900', 'Intel Core i5 1.8GHz', '8GB', '128GB Flash Storage', 'Intel HD Graphics 6000', 'macOS', '1.34kg', '898']\n",
      "['3362737', 'HP', '250 G6', 'Notebook', '15.6', 'Full HD 1920x1080', 'Intel Core i5 7200U 2.5GHz', '8GB', '256GB SSD', 'Intel HD Graphics 620', 'No OS', '1.86kg', '575']\n"
     ]
    }
   ],
   "source": [
    "# Previewing the header\n",
    "print(header,'\\n')\n",
    "\n",
    "# Previewing the first three data\n",
    "for row in rows[:3]: print(row)"
   ]
  },
  {
   "cell_type": "markdown",
   "metadata": {},
   "source": [
    "## 2. Inventory Class\n",
    "\n",
    "### 2.1. Creating the Class Object\n",
    "We will now create the class that we need to represent our dataset, which is the laptop inventory."
   ]
  },
  {
   "cell_type": "code",
   "execution_count": 5,
   "metadata": {},
   "outputs": [
    {
     "name": "stdout",
     "output_type": "stream",
     "text": [
      "There are 1303 rows\n"
     ]
    }
   ],
   "source": [
    "# Creating the class\n",
    "class Inventory():\n",
    "    def __init__(self, csv_filename):\n",
    "        with open(csv_filename) as dat:\n",
    "            reader = csv.reader(dat)\n",
    "            rows = list(reader)\n",
    "            self.header = rows[0]\n",
    "            self.rows = rows[1:]\n",
    "\n",
    "# Trying out the class\n",
    "test = Inventory('laptops.csv')\n",
    "\n",
    "# Printing the length of the rows excluding the header\n",
    "print('There are {} rows'.format(len(test.rows)))"
   ]
  },
  {
   "cell_type": "markdown",
   "metadata": {},
   "source": [
    "### 2.2. Creating a Function to Look Up a Laptop\n",
    "The first thing that we will implement is a way to look up a laptop from a given identifier. In this way, when a customer comes to our store with a purchase slip, we can quickly identify the laptop to which it corresponds.\n",
    "\n",
    "For this, we will write a function named `get_laptop_from_id()`. This function will take as argument the identifier of the laptop and return the full row of the laptop with that id."
   ]
  },
  {
   "cell_type": "code",
   "execution_count": 51,
   "metadata": {},
   "outputs": [
    {
     "name": "stdout",
     "output_type": "stream",
     "text": [
      "['3362737', 'HP', '250 G6', 'Notebook', '15.6', 'Full HD 1920x1080', 'Intel Core i5 7200U 2.5GHz', '8GB', '256GB SSD', 'Intel HD Graphics 620', 'No OS', '1.86kg', '575']\n",
      "None\n"
     ]
    }
   ],
   "source": [
    "# Adding the get_laptop_from_id function\n",
    "class Inventory():\n",
    "    def __init__(self, csv_filename):\n",
    "        with open(csv_filename) as dat:\n",
    "            reader = csv.reader(dat)\n",
    "            rows = list(reader)\n",
    "            self.header = rows[0]\n",
    "            self.rows = rows[1:]\n",
    "    \n",
    "    def get_laptop_from_id(self, laptop_id):\n",
    "        for rows in self.rows:\n",
    "            if rows[0] == laptop_id:\n",
    "                return rows\n",
    "        return None\n",
    "\n",
    "# Testing the new function\n",
    "print(Inventory('laptops.csv').get_laptop_from_id('3362737'))\n",
    "print(Inventory('laptops.csv').get_laptop_from_id('3362736'))"
   ]
  },
  {
   "cell_type": "markdown",
   "metadata": {},
   "source": [
    "The algorithm we have made is decent for the given dataset since it contains roughly 1,000 data points, but we can improve it further by using preprocessing the dataset. Just as a note, the time complexity so far is *O(R)* where *R* is the amount of input rows.\n",
    "\n",
    "The idea is proceprocess the data into a dictionary where the keys are the IDs and the values the rows. Then, we will use that dictionary in the get_laptop_from_id() method. We can do this by:\n",
    "\n",
    "1. Preprocess the data and create the dictionary in the `__init__()` method.\n",
    "2. Re-implement the get_laptop_from_id() method. We will do it as a new method so that we can compare the two."
   ]
  },
  {
   "cell_type": "code",
   "execution_count": 52,
   "metadata": {},
   "outputs": [
    {
     "name": "stdout",
     "output_type": "stream",
     "text": [
      "['3362737', 'HP', '250 G6', 'Notebook', '15.6', 'Full HD 1920x1080', 'Intel Core i5 7200U 2.5GHz', '8GB', '256GB SSD', 'Intel HD Graphics 620', 'No OS', '1.86kg', 575]\n",
      "None\n"
     ]
    }
   ],
   "source": [
    "# Adding preprocessing\n",
    "class Inventory():\n",
    "    def __init__(self, csv_filename):\n",
    "        with open(csv_filename) as dat:\n",
    "            reader = csv.reader(dat)\n",
    "            rows = list(reader)\n",
    "            self.header = rows[0]\n",
    "            self.rows = rows[1:]\n",
    "            self.id_to_row = dict()\n",
    "            for row in self.rows:\n",
    "                row[-1] = int(row[-1])\n",
    "                self.id_to_row[row[0]] = row \n",
    "    \n",
    "    def get_laptop_from_id(self, laptop_id):\n",
    "        for rows in self.rows:\n",
    "            if rows[0] == laptop_id:\n",
    "                return rows\n",
    "        return None\n",
    "    \n",
    "    def get_laptop_from_id_fast(self, laptop_id):\n",
    "        if laptop_id in self.id_to_row:\n",
    "            return self.id_to_row[laptop_id]\n",
    "        return None\n",
    "\n",
    "# Testing the new function\n",
    "print(Inventory('laptops.csv').get_laptop_from_id_fast('3362737'))\n",
    "print(Inventory('laptops.csv').get_laptop_from_id_fast('3362736'))"
   ]
  },
  {
   "cell_type": "markdown",
   "metadata": {},
   "source": [
    "The new function (`get_laptop_from_id_fast()`) has a time complexity of 1 or *O(1)*. The drawback is that the space complexity is higher since we are creating a new dicitonary which now stores *R* data points.\n",
    "\n",
    "We will now test the run time for both functions using random IDs which will be generated using the `random.randint()` function from the `random` library. We will also measure the time taken by using the `time.time()` function from the `time` library."
   ]
  },
  {
   "cell_type": "code",
   "execution_count": 53,
   "metadata": {},
   "outputs": [
    {
     "name": "stdout",
     "output_type": "stream",
     "text": [
      "The time taken for the function without dictionary is 1.1074535846710205 seconds.\n",
      "The time taken for the function with dictionary is 0.005177974700927734 seconds.\n"
     ]
    }
   ],
   "source": [
    "# Generating random IDs\n",
    "ids = [str(random.randint(1000000, 9999999)) for _ in range(10000)]\n",
    "\n",
    "# Assigning the class into a variable\n",
    "inventory = Inventory('laptops.csv')\n",
    "\n",
    "# Testing the duration for the \"slow\" function\n",
    "total_time_no_dict = 0\n",
    "for i in ids:\n",
    "    start = time.time()\n",
    "    inventory.get_laptop_from_id(i)\n",
    "    end = time.time()\n",
    "    total_time_no_dict += end - start\n",
    "    \n",
    "# Testing the duration for the fast function\n",
    "total_time_dict = 0\n",
    "for i in ids:\n",
    "    start = time.time()\n",
    "    inventory.get_laptop_from_id_fast(i)\n",
    "    end = time.time()\n",
    "    total_time_dict += end - start\n",
    "    \n",
    "# Printing the result\n",
    "print('The time taken for the function without dictionary is {} seconds.'.format(total_time_no_dict))\n",
    "print('The time taken for the function with dictionary is {} seconds.'.format(total_time_dict))"
   ]
  },
  {
   "cell_type": "markdown",
   "metadata": {},
   "source": [
    "We can see that our suspicion has been confirmed, the function with the dictionary (preprocessing) is faster by roughly 250 times (there will be slight differences everytime we run it).\n",
    "\n",
    "### 2.3. Creating a Look Up for Promotion\n",
    "Sometimes, your store offers a promotion where you give a gift card. A customer can use the gift to buy up to two laptops. To avoid having to keep track of what was already spent, the gift card has a single time usage. This means that, even if there is leftover money, it cannot be used anymore.\n",
    "\n",
    "You don't want to make a customer feel cheated, so whenever you issue a gift card, you want to make sure that there is at least one way to spend it in full. In other words, before issuing a gift card for D dollars, you want to make sure that either there is a laptop that costs exactly D dollars or two laptops whose costs add up to precisely D dollars.\n",
    "\n",
    "We will write a function that checks whether it is possible to spend precisely that amoung by purchasing up to two laptops."
   ]
  },
  {
   "cell_type": "code",
   "execution_count": 54,
   "metadata": {},
   "outputs": [
    {
     "name": "stdout",
     "output_type": "stream",
     "text": [
      "You can get a laptop or two for $1000.\n",
      "You cannot get a laptop or two for $442.\n"
     ]
    }
   ],
   "source": [
    "# Adding promotion lookup\n",
    "class Inventory():\n",
    "    def __init__(self, csv_filename):\n",
    "        with open(csv_filename) as dat:\n",
    "            reader = csv.reader(dat)\n",
    "            rows = list(reader)\n",
    "            self.header = rows[0]\n",
    "            self.rows = rows[1:]\n",
    "            self.id_to_row = dict()\n",
    "            for row in self.rows:\n",
    "                row[-1] = int(row[-1])\n",
    "                self.id_to_row[row[0]] = row\n",
    "    \n",
    "    def get_laptop_from_id(self, laptop_id):\n",
    "        for rows in self.rows:\n",
    "            if rows[0] == laptop_id:\n",
    "                return rows\n",
    "        return None\n",
    "    \n",
    "    def get_laptop_from_id_fast(self, laptop_id):\n",
    "        if laptop_id in self.id_to_row:\n",
    "            return self.id_to_row[laptop_id]\n",
    "        return None\n",
    "    \n",
    "    def check_promotion_dollars(self, dollars):\n",
    "        for row in self.rows:\n",
    "            if int(row[-1]) == dollars:\n",
    "                return True\n",
    "        \n",
    "        for i in range(len(self.rows)):\n",
    "            for j in range(i, len(self.rows)):\n",
    "                if int(self.rows[i][-1] + self.rows[j][-1]) == dollars:\n",
    "                    return True\n",
    "        return False\n",
    "\n",
    "# Testing the new function\n",
    "inventory = Inventory('laptops.csv')\n",
    "for dol in(1000, 442):\n",
    "    if inventory.check_promotion_dollars(dol):\n",
    "        print('You can get a laptop or two for ${}.'.format(dol))\n",
    "    else:\n",
    "        print('You cannot get a laptop or two for ${}.'.format(dol))"
   ]
  },
  {
   "cell_type": "markdown",
   "metadata": {},
   "source": [
    "Since, we've learned how we can preprocess data to answer the kind of queries that we used in the `check_promotion_dollars()`. Let's implement this to make our code run faster.\n",
    "\n",
    "We only care about whether or not there is a solution, thus, we can store all laptops prices in a set when we initialize the inventory. Then we can check in constant time whether there is a laptop with a given price."
   ]
  },
  {
   "cell_type": "code",
   "execution_count": 55,
   "metadata": {},
   "outputs": [
    {
     "name": "stdout",
     "output_type": "stream",
     "text": [
      "You can get a laptop or two for $1000.\n",
      "You cannot get a laptop or two for $442.\n"
     ]
    }
   ],
   "source": [
    "# Adding promotion lookup with preprocessing\n",
    "class Inventory():\n",
    "    def __init__(self, csv_filename):\n",
    "        with open(csv_filename) as dat:\n",
    "            reader = csv.reader(dat)\n",
    "            rows = list(reader)\n",
    "            self.header = rows[0]\n",
    "            self.rows = rows[1:]\n",
    "            self.id_to_row = dict()\n",
    "            self.prices = set()\n",
    "            for row in self.rows:\n",
    "                row[-1] = int(row[-1])\n",
    "                self.id_to_row[row[0]] = row \n",
    "                self.prices.add(int(row[-1]))\n",
    "    \n",
    "    def get_laptop_from_id(self, laptop_id):\n",
    "        for rows in self.rows:\n",
    "            if rows[0] == laptop_id:\n",
    "                return rows\n",
    "        return None\n",
    "    \n",
    "    def get_laptop_from_id_fast(self, laptop_id):\n",
    "        if laptop_id in self.id_to_row:\n",
    "            return self.id_to_row[laptop_id]\n",
    "        return None\n",
    "    \n",
    "    def check_promotion_dollars(self, dollars):\n",
    "        for row in self.rows:\n",
    "            if int(row[-1]) == dollars:\n",
    "                return True\n",
    "        \n",
    "        for i in range(len(self.rows)):\n",
    "            for j in range(i, len(self.rows)):\n",
    "                if int(self.rows[i][-1] + self.rows[j][-1]) == dollars:\n",
    "                    return True\n",
    "        return False\n",
    "    \n",
    "    def check_promotion_dollars_fast(self, dollars):\n",
    "        if dollars in self.prices:\n",
    "            return True\n",
    "        for price in self.prices:\n",
    "            if dollars - price in self.prices:\n",
    "                return True\n",
    "        return False\n",
    "    \n",
    "# Testing the new function\n",
    "inventory = Inventory('laptops.csv')\n",
    "for dol in(1000, 442):\n",
    "    if inventory.check_promotion_dollars_fast(dol):\n",
    "        print('You can get a laptop or two for ${}.'.format(dol))\n",
    "    else:\n",
    "        print('You cannot get a laptop or two for ${}.'.format(dol))"
   ]
  },
  {
   "cell_type": "markdown",
   "metadata": {},
   "source": [
    "We will now compare the performance for both of the functions just like the look up functions above."
   ]
  },
  {
   "cell_type": "code",
   "execution_count": 43,
   "metadata": {},
   "outputs": [
    {
     "name": "stdout",
     "output_type": "stream",
     "text": [
      "The time taken for the function without set is 46.085529088974 seconds.\n",
      "The time taken for the function with set is 0.0007078647613525391 seconds.\n"
     ]
    }
   ],
   "source": [
    "# Generating random IDs\n",
    "prices = [random.randint(100, 5000) for _ in range(100)]\n",
    "\n",
    "# Assigning the class into a variable\n",
    "inventory = Inventory('laptops.csv')\n",
    "\n",
    "# Testing the duration for the \"slow\" function\n",
    "total_time_no_set = 0\n",
    "for i in prices:\n",
    "    start = time.time()\n",
    "    inventory.check_promotion_dollars(i)\n",
    "    end = time.time()\n",
    "    total_time_no_set += end - start\n",
    "    \n",
    "# Testing the duration for the fast function\n",
    "total_time_set = 0\n",
    "for i in prices:\n",
    "    start = time.time()\n",
    "    inventory.check_promotion_dollars_fast(i)\n",
    "    end = time.time()\n",
    "    total_time_set += end - start\n",
    "    \n",
    "# Printing the result\n",
    "print('The time taken for the function without set is {} seconds.'.format(total_time_no_set))\n",
    "print('The time taken for the function with set is {} seconds.'.format(total_time_set))"
   ]
  },
  {
   "cell_type": "markdown",
   "metadata": {},
   "source": [
    "We can see that the function with set is almost 66,000 times faster than the triple looped function, thus we have made steady improvements to the function.\n",
    "\n",
    "### 2.4. Finding Laptops Within a Budget\n",
    "We want to write a method that efficiently answers the query: Given a budget of D dollars, find all laptops whose price it at most D.\n",
    "\n",
    "If we sort all laptops by price, we can use binary search to identify the first laptop in the sorted list with a price larger than D. We need to make sure that our binary search finds the first one on the list. Then, the result of the query will consist of all laptops whose index in the sorted list is smaller than the index of the first laptop whose price is higher than D dollars.\n",
    "\n",
    "We can use the `sorted()` function to help us sort the dataset based on the price before we conduct the binary search."
   ]
  },
  {
   "cell_type": "code",
   "execution_count": 57,
   "metadata": {},
   "outputs": [
    {
     "name": "stdout",
     "output_type": "stream",
     "text": [
      "The laptop you are looking for is 683.\n",
      "There are not laptop within your budget.\n"
     ]
    }
   ],
   "source": [
    "# Defining a function to extract the price\n",
    "def row_price(row):\n",
    "    return row[-1]\n",
    "\n",
    "# Adding the binary search\n",
    "class Inventory():\n",
    "    def __init__(self, csv_filename):\n",
    "        with open(csv_filename) as dat:\n",
    "            reader = csv.reader(dat)\n",
    "            rows = list(reader)\n",
    "            self.header = rows[0]\n",
    "            self.rows = rows[1:]\n",
    "            self.id_to_row = dict()\n",
    "            self.prices = set()\n",
    "            for row in self.rows:\n",
    "                row[-1] = int(row[-1])\n",
    "                self.id_to_row[row[0]] = row \n",
    "                self.prices.add(int(row[-1]))\n",
    "            self.rows_by_price = sorted(self.rows, key = row_price)\n",
    "    \n",
    "    def get_laptop_from_id(self, laptop_id):\n",
    "        for rows in self.rows:\n",
    "            if rows[0] == laptop_id:\n",
    "                return rows\n",
    "        return None\n",
    "    \n",
    "    def get_laptop_from_id_fast(self, laptop_id):\n",
    "        if laptop_id in self.id_to_row:\n",
    "            return self.id_to_row[laptop_id]\n",
    "        return None\n",
    "    \n",
    "    def check_promotion_dollars(self, dollars):\n",
    "        for row in self.rows:\n",
    "            if int(row[-1]) == dollars:\n",
    "                return True\n",
    "        \n",
    "        for i in range(len(self.rows)):\n",
    "            for j in range(i, len(self.rows)):\n",
    "                if int(self.rows[i][-1] + self.rows[j][-1]) == dollars:\n",
    "                    return True\n",
    "        return False\n",
    "    \n",
    "    def check_promotion_dollars_fast(self, dollars):\n",
    "        if dollars in self.prices:\n",
    "            return True\n",
    "        for price in self.prices:\n",
    "            if dollars - price in self.prices:\n",
    "                return True\n",
    "        return False\n",
    "    \n",
    "    def find_first_laptop_more_expensive(self, target_price):\n",
    "        range_start = 0                                   \n",
    "        range_end = len(self.rows_by_price) - 1                   \n",
    "        while range_start < range_end:\n",
    "            range_middle = (range_end + range_start) // 2  \n",
    "            price = self.rows_by_price[range_middle][-1]\n",
    "            if price > target_price:\n",
    "                range_end = range_middle\n",
    "            else:\n",
    "                range_start = range_middle + 1\n",
    "        if self.rows_by_price[range_start][-1] <= target_price:                  \n",
    "            return -1                                      \n",
    "        return range_start\n",
    "\n",
    "# Testing the new function\n",
    "inventory = Inventory('laptops.csv')\n",
    "for dol in(1000, 10000):\n",
    "    temp = inventory.find_first_laptop_more_expensive(dol)\n",
    "    if temp != -1:\n",
    "        print('The laptop you are looking have the id of {}.'.format(temp))\n",
    "    else:\n",
    "        print('There are not laptop within your budget.')"
   ]
  }
 ],
 "metadata": {
  "kernelspec": {
   "display_name": "Python 3",
   "language": "python",
   "name": "python3"
  },
  "language_info": {
   "codemirror_mode": {
    "name": "ipython",
    "version": 3
   },
   "file_extension": ".py",
   "mimetype": "text/x-python",
   "name": "python",
   "nbconvert_exporter": "python",
   "pygments_lexer": "ipython3",
   "version": "3.8.2"
  }
 },
 "nbformat": 4,
 "nbformat_minor": 2
}
