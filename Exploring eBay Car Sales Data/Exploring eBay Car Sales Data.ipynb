{
 "cells": [
  {
   "cell_type": "markdown",
   "metadata": {},
   "source": [
    "# eBay Kleinanzeigen: A Data Quest Project\n",
    "---"
   ]
  },
  {
   "cell_type": "markdown",
   "metadata": {},
   "source": [
    "In this guided project, we'll work with a dataset of used cars from eBay Kleinanzeigen, a classifieds section of the German eBay website.\n",
    "\n",
    "The dataset was originally scraped and uploaded to Kaggle by user orgesleka.\n",
    "The original dataset isn't available on Kaggle anymore, but you can find it [here](https://data.world/data-society/used-cars-data).\n",
    "\n",
    "We've made a few modifications from the original dataset:\n",
    "\n",
    "-We sampled 50,000 data points from the full dataset, to ensure your code runs quickly in our hosted environment\n",
    "-We dirtied the dataset a bit to more closely resemble what you would expect from a scraped dataset (the version uploaded to Kaggle was cleaned to be easier to work with)\n",
    "\n",
    "The data dictionary provided with data is as follows:\n",
    "- `dateCrawled` - When this ad was first crawled. All field-values are -taken from this date.\n",
    "\n",
    "- `name` - Name of the car.\n",
    "\n",
    "- `seller` - Whether the seller is private or a dealer.\n",
    "\n",
    "- `offerType` - The type of listing\n",
    "\n",
    "- `price` - The price on the ad to sell the car.\n",
    "\n",
    "- `abtest` - Whether the listing is included in an A/B test.\n",
    "\n",
    "- `vehicleType` - The vehicle Type.\n",
    "\n",
    "- `yearOfRegistration` - The year in which the car was first registered.\n",
    "\n",
    "- `gearbox` - The transmission type.\n",
    "\n",
    "- `powerPS` - The power of the car in PS.\n",
    "\n",
    "- `model` - The car model name.\n",
    "\n",
    "- `kilometer` - How many kilometers the car has driven.\n",
    "\n",
    "- `monthOfRegistration` - The month in which the car was first registered.\n",
    "\n",
    "- `fuelType` - What type of fuel the car uses.\n",
    "\n",
    "- `brand` - The brand of the car.\n",
    "\n",
    "- `notRepairedDamage` - If the car has a damage which is not yet repaired.\n",
    "\n",
    "- `dateCreated` - The date on which the eBay listing was created.\n",
    "\n",
    "- `nrOfPictures` - The number of pictures in the ad.\n",
    "\n",
    "- `postalCode` - The postal code for the location of the vehicle.\n",
    "\n",
    "- `lastSeenOnline` - When the crawler saw this ad last online."
   ]
  },
  {
   "cell_type": "markdown",
   "metadata": {},
   "source": [
    "### The First Steps:"
   ]
  },
  {
   "cell_type": "markdown",
   "metadata": {},
   "source": [
    "#### 1. Importing Necessary Modules and the CSV File"
   ]
  },
  {
   "cell_type": "code",
   "execution_count": 1,
   "metadata": {},
   "outputs": [],
   "source": [
    "#Importing modules\n",
    "import pandas as pd\n",
    "import numpy as np\n",
    "import re\n",
    "pd.set_option('mode.chained_assignment', None)\n",
    "\n",
    "#Reading the CSV file which is encoded in Latin-1\n",
    "autos=pd.read_csv(\"autos.csv\",encoding=\"Latin-1\")"
   ]
  },
  {
   "cell_type": "markdown",
   "metadata": {},
   "source": [
    "#### 2. Initial Inspection"
   ]
  },
  {
   "cell_type": "code",
   "execution_count": 2,
   "metadata": {
    "scrolled": false
   },
   "outputs": [
    {
     "data": {
      "text/html": [
       "<div>\n",
       "<style scoped>\n",
       "    .dataframe tbody tr th:only-of-type {\n",
       "        vertical-align: middle;\n",
       "    }\n",
       "\n",
       "    .dataframe tbody tr th {\n",
       "        vertical-align: top;\n",
       "    }\n",
       "\n",
       "    .dataframe thead th {\n",
       "        text-align: right;\n",
       "    }\n",
       "</style>\n",
       "<table border=\"1\" class=\"dataframe\">\n",
       "  <thead>\n",
       "    <tr style=\"text-align: right;\">\n",
       "      <th></th>\n",
       "      <th>dateCrawled</th>\n",
       "      <th>name</th>\n",
       "      <th>seller</th>\n",
       "      <th>offerType</th>\n",
       "      <th>price</th>\n",
       "      <th>abtest</th>\n",
       "      <th>vehicleType</th>\n",
       "      <th>yearOfRegistration</th>\n",
       "      <th>gearbox</th>\n",
       "      <th>powerPS</th>\n",
       "      <th>model</th>\n",
       "      <th>odometer</th>\n",
       "      <th>monthOfRegistration</th>\n",
       "      <th>fuelType</th>\n",
       "      <th>brand</th>\n",
       "      <th>notRepairedDamage</th>\n",
       "      <th>dateCreated</th>\n",
       "      <th>nrOfPictures</th>\n",
       "      <th>postalCode</th>\n",
       "      <th>lastSeen</th>\n",
       "    </tr>\n",
       "  </thead>\n",
       "  <tbody>\n",
       "    <tr>\n",
       "      <th>0</th>\n",
       "      <td>2016-03-26 17:47:46</td>\n",
       "      <td>Peugeot_807_160_NAVTECH_ON_BOARD</td>\n",
       "      <td>privat</td>\n",
       "      <td>Angebot</td>\n",
       "      <td>$5,000</td>\n",
       "      <td>control</td>\n",
       "      <td>bus</td>\n",
       "      <td>2004</td>\n",
       "      <td>manuell</td>\n",
       "      <td>158</td>\n",
       "      <td>andere</td>\n",
       "      <td>150,000km</td>\n",
       "      <td>3</td>\n",
       "      <td>lpg</td>\n",
       "      <td>peugeot</td>\n",
       "      <td>nein</td>\n",
       "      <td>2016-03-26 00:00:00</td>\n",
       "      <td>0</td>\n",
       "      <td>79588</td>\n",
       "      <td>2016-04-06 06:45:54</td>\n",
       "    </tr>\n",
       "    <tr>\n",
       "      <th>1</th>\n",
       "      <td>2016-04-04 13:38:56</td>\n",
       "      <td>BMW_740i_4_4_Liter_HAMANN_UMBAU_Mega_Optik</td>\n",
       "      <td>privat</td>\n",
       "      <td>Angebot</td>\n",
       "      <td>$8,500</td>\n",
       "      <td>control</td>\n",
       "      <td>limousine</td>\n",
       "      <td>1997</td>\n",
       "      <td>automatik</td>\n",
       "      <td>286</td>\n",
       "      <td>7er</td>\n",
       "      <td>150,000km</td>\n",
       "      <td>6</td>\n",
       "      <td>benzin</td>\n",
       "      <td>bmw</td>\n",
       "      <td>nein</td>\n",
       "      <td>2016-04-04 00:00:00</td>\n",
       "      <td>0</td>\n",
       "      <td>71034</td>\n",
       "      <td>2016-04-06 14:45:08</td>\n",
       "    </tr>\n",
       "    <tr>\n",
       "      <th>2</th>\n",
       "      <td>2016-03-26 18:57:24</td>\n",
       "      <td>Volkswagen_Golf_1.6_United</td>\n",
       "      <td>privat</td>\n",
       "      <td>Angebot</td>\n",
       "      <td>$8,990</td>\n",
       "      <td>test</td>\n",
       "      <td>limousine</td>\n",
       "      <td>2009</td>\n",
       "      <td>manuell</td>\n",
       "      <td>102</td>\n",
       "      <td>golf</td>\n",
       "      <td>70,000km</td>\n",
       "      <td>7</td>\n",
       "      <td>benzin</td>\n",
       "      <td>volkswagen</td>\n",
       "      <td>nein</td>\n",
       "      <td>2016-03-26 00:00:00</td>\n",
       "      <td>0</td>\n",
       "      <td>35394</td>\n",
       "      <td>2016-04-06 20:15:37</td>\n",
       "    </tr>\n",
       "    <tr>\n",
       "      <th>3</th>\n",
       "      <td>2016-03-12 16:58:10</td>\n",
       "      <td>Smart_smart_fortwo_coupe_softouch/F1/Klima/Pan...</td>\n",
       "      <td>privat</td>\n",
       "      <td>Angebot</td>\n",
       "      <td>$4,350</td>\n",
       "      <td>control</td>\n",
       "      <td>kleinwagen</td>\n",
       "      <td>2007</td>\n",
       "      <td>automatik</td>\n",
       "      <td>71</td>\n",
       "      <td>fortwo</td>\n",
       "      <td>70,000km</td>\n",
       "      <td>6</td>\n",
       "      <td>benzin</td>\n",
       "      <td>smart</td>\n",
       "      <td>nein</td>\n",
       "      <td>2016-03-12 00:00:00</td>\n",
       "      <td>0</td>\n",
       "      <td>33729</td>\n",
       "      <td>2016-03-15 03:16:28</td>\n",
       "    </tr>\n",
       "    <tr>\n",
       "      <th>4</th>\n",
       "      <td>2016-04-01 14:38:50</td>\n",
       "      <td>Ford_Focus_1_6_Benzin_TÜV_neu_ist_sehr_gepfleg...</td>\n",
       "      <td>privat</td>\n",
       "      <td>Angebot</td>\n",
       "      <td>$1,350</td>\n",
       "      <td>test</td>\n",
       "      <td>kombi</td>\n",
       "      <td>2003</td>\n",
       "      <td>manuell</td>\n",
       "      <td>0</td>\n",
       "      <td>focus</td>\n",
       "      <td>150,000km</td>\n",
       "      <td>7</td>\n",
       "      <td>benzin</td>\n",
       "      <td>ford</td>\n",
       "      <td>nein</td>\n",
       "      <td>2016-04-01 00:00:00</td>\n",
       "      <td>0</td>\n",
       "      <td>39218</td>\n",
       "      <td>2016-04-01 14:38:50</td>\n",
       "    </tr>\n",
       "    <tr>\n",
       "      <th>5</th>\n",
       "      <td>2016-03-21 13:47:45</td>\n",
       "      <td>Chrysler_Grand_Voyager_2.8_CRD_Aut.Limited_Sto...</td>\n",
       "      <td>privat</td>\n",
       "      <td>Angebot</td>\n",
       "      <td>$7,900</td>\n",
       "      <td>test</td>\n",
       "      <td>bus</td>\n",
       "      <td>2006</td>\n",
       "      <td>automatik</td>\n",
       "      <td>150</td>\n",
       "      <td>voyager</td>\n",
       "      <td>150,000km</td>\n",
       "      <td>4</td>\n",
       "      <td>diesel</td>\n",
       "      <td>chrysler</td>\n",
       "      <td>NaN</td>\n",
       "      <td>2016-03-21 00:00:00</td>\n",
       "      <td>0</td>\n",
       "      <td>22962</td>\n",
       "      <td>2016-04-06 09:45:21</td>\n",
       "    </tr>\n",
       "    <tr>\n",
       "      <th>6</th>\n",
       "      <td>2016-03-20 17:55:21</td>\n",
       "      <td>VW_Golf_III_GT_Special_Electronic_Green_Metall...</td>\n",
       "      <td>privat</td>\n",
       "      <td>Angebot</td>\n",
       "      <td>$300</td>\n",
       "      <td>test</td>\n",
       "      <td>limousine</td>\n",
       "      <td>1995</td>\n",
       "      <td>manuell</td>\n",
       "      <td>90</td>\n",
       "      <td>golf</td>\n",
       "      <td>150,000km</td>\n",
       "      <td>8</td>\n",
       "      <td>benzin</td>\n",
       "      <td>volkswagen</td>\n",
       "      <td>NaN</td>\n",
       "      <td>2016-03-20 00:00:00</td>\n",
       "      <td>0</td>\n",
       "      <td>31535</td>\n",
       "      <td>2016-03-23 02:48:59</td>\n",
       "    </tr>\n",
       "    <tr>\n",
       "      <th>7</th>\n",
       "      <td>2016-03-16 18:55:19</td>\n",
       "      <td>Golf_IV_1.9_TDI_90PS</td>\n",
       "      <td>privat</td>\n",
       "      <td>Angebot</td>\n",
       "      <td>$1,990</td>\n",
       "      <td>control</td>\n",
       "      <td>limousine</td>\n",
       "      <td>1998</td>\n",
       "      <td>manuell</td>\n",
       "      <td>90</td>\n",
       "      <td>golf</td>\n",
       "      <td>150,000km</td>\n",
       "      <td>12</td>\n",
       "      <td>diesel</td>\n",
       "      <td>volkswagen</td>\n",
       "      <td>nein</td>\n",
       "      <td>2016-03-16 00:00:00</td>\n",
       "      <td>0</td>\n",
       "      <td>53474</td>\n",
       "      <td>2016-04-07 03:17:32</td>\n",
       "    </tr>\n",
       "    <tr>\n",
       "      <th>8</th>\n",
       "      <td>2016-03-22 16:51:34</td>\n",
       "      <td>Seat_Arosa</td>\n",
       "      <td>privat</td>\n",
       "      <td>Angebot</td>\n",
       "      <td>$250</td>\n",
       "      <td>test</td>\n",
       "      <td>NaN</td>\n",
       "      <td>2000</td>\n",
       "      <td>manuell</td>\n",
       "      <td>0</td>\n",
       "      <td>arosa</td>\n",
       "      <td>150,000km</td>\n",
       "      <td>10</td>\n",
       "      <td>NaN</td>\n",
       "      <td>seat</td>\n",
       "      <td>nein</td>\n",
       "      <td>2016-03-22 00:00:00</td>\n",
       "      <td>0</td>\n",
       "      <td>7426</td>\n",
       "      <td>2016-03-26 18:18:10</td>\n",
       "    </tr>\n",
       "    <tr>\n",
       "      <th>9</th>\n",
       "      <td>2016-03-16 13:47:02</td>\n",
       "      <td>Renault_Megane_Scenic_1.6e_RT_Klimaanlage</td>\n",
       "      <td>privat</td>\n",
       "      <td>Angebot</td>\n",
       "      <td>$590</td>\n",
       "      <td>control</td>\n",
       "      <td>bus</td>\n",
       "      <td>1997</td>\n",
       "      <td>manuell</td>\n",
       "      <td>90</td>\n",
       "      <td>megane</td>\n",
       "      <td>150,000km</td>\n",
       "      <td>7</td>\n",
       "      <td>benzin</td>\n",
       "      <td>renault</td>\n",
       "      <td>nein</td>\n",
       "      <td>2016-03-16 00:00:00</td>\n",
       "      <td>0</td>\n",
       "      <td>15749</td>\n",
       "      <td>2016-04-06 10:46:35</td>\n",
       "    </tr>\n",
       "  </tbody>\n",
       "</table>\n",
       "</div>"
      ],
      "text/plain": [
       "           dateCrawled                                               name  \\\n",
       "0  2016-03-26 17:47:46                   Peugeot_807_160_NAVTECH_ON_BOARD   \n",
       "1  2016-04-04 13:38:56         BMW_740i_4_4_Liter_HAMANN_UMBAU_Mega_Optik   \n",
       "2  2016-03-26 18:57:24                         Volkswagen_Golf_1.6_United   \n",
       "3  2016-03-12 16:58:10  Smart_smart_fortwo_coupe_softouch/F1/Klima/Pan...   \n",
       "4  2016-04-01 14:38:50  Ford_Focus_1_6_Benzin_TÜV_neu_ist_sehr_gepfleg...   \n",
       "5  2016-03-21 13:47:45  Chrysler_Grand_Voyager_2.8_CRD_Aut.Limited_Sto...   \n",
       "6  2016-03-20 17:55:21  VW_Golf_III_GT_Special_Electronic_Green_Metall...   \n",
       "7  2016-03-16 18:55:19                               Golf_IV_1.9_TDI_90PS   \n",
       "8  2016-03-22 16:51:34                                         Seat_Arosa   \n",
       "9  2016-03-16 13:47:02          Renault_Megane_Scenic_1.6e_RT_Klimaanlage   \n",
       "\n",
       "   seller offerType   price   abtest vehicleType  yearOfRegistration  \\\n",
       "0  privat   Angebot  $5,000  control         bus                2004   \n",
       "1  privat   Angebot  $8,500  control   limousine                1997   \n",
       "2  privat   Angebot  $8,990     test   limousine                2009   \n",
       "3  privat   Angebot  $4,350  control  kleinwagen                2007   \n",
       "4  privat   Angebot  $1,350     test       kombi                2003   \n",
       "5  privat   Angebot  $7,900     test         bus                2006   \n",
       "6  privat   Angebot    $300     test   limousine                1995   \n",
       "7  privat   Angebot  $1,990  control   limousine                1998   \n",
       "8  privat   Angebot    $250     test         NaN                2000   \n",
       "9  privat   Angebot    $590  control         bus                1997   \n",
       "\n",
       "     gearbox  powerPS    model   odometer  monthOfRegistration fuelType  \\\n",
       "0    manuell      158   andere  150,000km                    3      lpg   \n",
       "1  automatik      286      7er  150,000km                    6   benzin   \n",
       "2    manuell      102     golf   70,000km                    7   benzin   \n",
       "3  automatik       71   fortwo   70,000km                    6   benzin   \n",
       "4    manuell        0    focus  150,000km                    7   benzin   \n",
       "5  automatik      150  voyager  150,000km                    4   diesel   \n",
       "6    manuell       90     golf  150,000km                    8   benzin   \n",
       "7    manuell       90     golf  150,000km                   12   diesel   \n",
       "8    manuell        0    arosa  150,000km                   10      NaN   \n",
       "9    manuell       90   megane  150,000km                    7   benzin   \n",
       "\n",
       "        brand notRepairedDamage          dateCreated  nrOfPictures  \\\n",
       "0     peugeot              nein  2016-03-26 00:00:00             0   \n",
       "1         bmw              nein  2016-04-04 00:00:00             0   \n",
       "2  volkswagen              nein  2016-03-26 00:00:00             0   \n",
       "3       smart              nein  2016-03-12 00:00:00             0   \n",
       "4        ford              nein  2016-04-01 00:00:00             0   \n",
       "5    chrysler               NaN  2016-03-21 00:00:00             0   \n",
       "6  volkswagen               NaN  2016-03-20 00:00:00             0   \n",
       "7  volkswagen              nein  2016-03-16 00:00:00             0   \n",
       "8        seat              nein  2016-03-22 00:00:00             0   \n",
       "9     renault              nein  2016-03-16 00:00:00             0   \n",
       "\n",
       "   postalCode             lastSeen  \n",
       "0       79588  2016-04-06 06:45:54  \n",
       "1       71034  2016-04-06 14:45:08  \n",
       "2       35394  2016-04-06 20:15:37  \n",
       "3       33729  2016-03-15 03:16:28  \n",
       "4       39218  2016-04-01 14:38:50  \n",
       "5       22962  2016-04-06 09:45:21  \n",
       "6       31535  2016-03-23 02:48:59  \n",
       "7       53474  2016-04-07 03:17:32  \n",
       "8        7426  2016-03-26 18:18:10  \n",
       "9       15749  2016-04-06 10:46:35  "
      ]
     },
     "execution_count": 2,
     "metadata": {},
     "output_type": "execute_result"
    }
   ],
   "source": [
    "#Initial nspection of the first 10 data\n",
    "autos.head(10)"
   ]
  },
  {
   "cell_type": "code",
   "execution_count": 3,
   "metadata": {
    "scrolled": true
   },
   "outputs": [
    {
     "name": "stdout",
     "output_type": "stream",
     "text": [
      "<class 'pandas.core.frame.DataFrame'>\n",
      "RangeIndex: 50000 entries, 0 to 49999\n",
      "Data columns (total 20 columns):\n",
      "dateCrawled            50000 non-null object\n",
      "name                   50000 non-null object\n",
      "seller                 50000 non-null object\n",
      "offerType              50000 non-null object\n",
      "price                  50000 non-null object\n",
      "abtest                 50000 non-null object\n",
      "vehicleType            44905 non-null object\n",
      "yearOfRegistration     50000 non-null int64\n",
      "gearbox                47320 non-null object\n",
      "powerPS                50000 non-null int64\n",
      "model                  47242 non-null object\n",
      "odometer               50000 non-null object\n",
      "monthOfRegistration    50000 non-null int64\n",
      "fuelType               45518 non-null object\n",
      "brand                  50000 non-null object\n",
      "notRepairedDamage      40171 non-null object\n",
      "dateCreated            50000 non-null object\n",
      "nrOfPictures           50000 non-null int64\n",
      "postalCode             50000 non-null int64\n",
      "lastSeen               50000 non-null object\n",
      "dtypes: int64(5), object(15)\n",
      "memory usage: 7.6+ MB\n"
     ]
    }
   ],
   "source": [
    "#Inspection of columns and its objects\n",
    "autos.info()"
   ]
  },
  {
   "cell_type": "markdown",
   "metadata": {},
   "source": [
    "There are some missing data (possible NaN or other unwanted types) in vehicletype, gearbox, model, fueltype, and notRepaireddamage. 20 Columns, 7 of which are NumPy integers and 13 objects.\n",
    "\n",
    "Changing the column names into all lowercase letter would be beneficial for ease of access. \n",
    "\n",
    "Language used seems to be German, might be problematic for some characters (Umlaut and Eszett) in .replace() if required. Hopefully, the csv is relatively clean of the special characters, time to remember highschool German."
   ]
  },
  {
   "cell_type": "markdown",
   "metadata": {},
   "source": [
    "#### 3. Fixing Column Names"
   ]
  },
  {
   "cell_type": "code",
   "execution_count": 4,
   "metadata": {},
   "outputs": [
    {
     "data": {
      "text/plain": [
       "Index(['date_crawled', 'name', 'seller', 'offer_type', 'price', 'abtest',\n",
       "       'vehicle_type', 'registration_year', 'gearbox', 'powerps', 'model',\n",
       "       'odometer', 'registration_month', 'fuel_type', 'brand',\n",
       "       'unrepaired_damage', 'ad_created', 'pic_count', 'postal_code',\n",
       "       'last_seen'],\n",
       "      dtype='object')"
      ]
     },
     "execution_count": 4,
     "metadata": {},
     "output_type": "execute_result"
    }
   ],
   "source": [
    "#Creating a dictionary of column names that will be fixed\n",
    "colnamefix={\"yearOfRegistration\":\"registration_year\",\n",
    "            \"monthOfRegistration\":\"registration_month\",\n",
    "           \"notRepairedDamage\":\"unrepaired_damage\",\n",
    "           \"dateCreated\":\"ad_created\",\n",
    "            \"dateCrawled\":\"date_crawled\",\n",
    "           \"offerType\":\"offer_type\",\n",
    "           \"vehicleType\":\"vehicle_type\",\n",
    "           \"fuelType\":\"fuel_type\",\n",
    "           \"nrOfPictures\":\"pic_count\",\n",
    "           \"postalCode\":\"postal_code\",\n",
    "           \"lastSeen\":\"last_seen\"}\n",
    "\n",
    "#Fixing the columns namesing loop\n",
    "for i in colnamefix:\n",
    "    autos.rename(columns={i:colnamefix[i]},inplace=True)\n",
    "\n",
    "#Changing column names into lowercase characters\n",
    "tempcol=list()\n",
    "\n",
    "for i in autos.columns:\n",
    "    tempcol.append(i.lower())\n",
    "\n",
    "autos.columns=tempcol\n",
    "autos.columns"
   ]
  },
  {
   "cell_type": "markdown",
   "metadata": {},
   "source": [
    "What we are trying to achieve here is actually quite simple, changing the format of the column labels from camelcase to snakecase. \n",
    "\n",
    "A relatively easy and primitive way to do this is to loop the dictionary of columns that are desired and cross-matching it with the actual columns. The next part is trying to get all the characters into lower case which is quite simple."
   ]
  },
  {
   "cell_type": "markdown",
   "metadata": {},
   "source": [
    "#### 4. Mapping German Words into English"
   ]
  },
  {
   "cell_type": "code",
   "execution_count": 5,
   "metadata": {},
   "outputs": [
    {
     "name": "stdout",
     "output_type": "stream",
     "text": [
      "['private' 'commercial']\n",
      "['bid' 'request']\n",
      "['bus' 'limousine' 'small_vehicle' 'station_wagon' 'not_known' 'coupe'\n",
      " 'suv' 'cabrio' 'others']\n",
      "['manual' 'automatic' 'not_known']\n",
      "['lpg' 'petrol' 'diesel' 'not_known' 'cng' 'hybrid' 'electric' 'others']\n",
      "['no' 'not_known' 'yes']\n"
     ]
    }
   ],
   "source": [
    "#Creating a list of columns that uses German\n",
    "german=[\"seller\",\"offer_type\",\"vehicle_type\",\n",
    "        \"gearbox\",\"fuel_type\",\"unrepaired_damage\"]\n",
    "\n",
    "#Creating a dictionary of German words that will be changed\n",
    "seller={\"privat\":\"private\",\"gewerblich\":\"commercial\"}\n",
    "offer={\"Angebot\":\"bid\",\"Gesuch\":\"request\"}\n",
    "vehicle={\"kleinwagen\":\"small_vehicle\",\"andere\":\"others\",\"kombi\":\"station_wagon\"}\n",
    "gear={\"manuell\":\"manual\",\"automatik\":\"automatic\"}\n",
    "fuel={\"benzin\":\"petrol\",\"elektro\":\"electric\",\"andere\":\"others\"}\n",
    "damage={\"nein\":\"no\",\"ja\":\"yes\"}\n",
    "\n",
    "#Replacing the German words\n",
    "for i in seller:\n",
    "    autos[\"seller\"].replace([str(i)+\".*\"],\n",
    "                            [seller[i]],regex=True,inplace=True)\n",
    "for i in offer:\n",
    "    autos[\"offer_type\"].replace([str(i)+\".*\"],\n",
    "                            [offer[i]],regex=True,inplace=True)\n",
    "for i in vehicle:\n",
    "    autos[\"vehicle_type\"].replace([str(i)+\".*\"],\n",
    "                            [vehicle[i]],regex=True,inplace=True)\n",
    "for i in gear:\n",
    "    autos[\"gearbox\"].replace([str(i)+\".*\"],\n",
    "                            [gear[i]],regex=True,inplace=True)        \n",
    "for i in fuel:\n",
    "    autos[\"fuel_type\"].replace([str(i)+\".*\"],\n",
    "                            [fuel[i]],regex=True,inplace=True)\n",
    "for i in damage:\n",
    "    autos[\"unrepaired_damage\"].replace([str(i)+\".*\"],\n",
    "                            [damage[i]],regex=True,inplace=True)\n",
    "\n",
    "#Checking if the German words have been changed  \n",
    "for i in german:\n",
    "    autos[i].fillna(\"not_known\",inplace=True)\n",
    "    print(autos[i].unique())"
   ]
  },
  {
   "cell_type": "markdown",
   "metadata": {},
   "source": [
    "Here we are replacing the German words with its English equivalent. The method utilized is regular expression and .replace. The idea here is that we create a dictionary of the things that we wanted to replace, after that we loop through the dictionary and match it using regular expression."
   ]
  },
  {
   "cell_type": "markdown",
   "metadata": {},
   "source": [
    "### Data Cleaning"
   ]
  },
  {
   "cell_type": "markdown",
   "metadata": {},
   "source": [
    "#### 1. Cleaning Non-dates Data"
   ]
  },
  {
   "cell_type": "markdown",
   "metadata": {},
   "source": [
    "##### Quick Look into Desriptive Statistics"
   ]
  },
  {
   "cell_type": "code",
   "execution_count": 6,
   "metadata": {},
   "outputs": [
    {
     "data": {
      "text/html": [
       "<div>\n",
       "<style scoped>\n",
       "    .dataframe tbody tr th:only-of-type {\n",
       "        vertical-align: middle;\n",
       "    }\n",
       "\n",
       "    .dataframe tbody tr th {\n",
       "        vertical-align: top;\n",
       "    }\n",
       "\n",
       "    .dataframe thead th {\n",
       "        text-align: right;\n",
       "    }\n",
       "</style>\n",
       "<table border=\"1\" class=\"dataframe\">\n",
       "  <thead>\n",
       "    <tr style=\"text-align: right;\">\n",
       "      <th></th>\n",
       "      <th>date_crawled</th>\n",
       "      <th>name</th>\n",
       "      <th>seller</th>\n",
       "      <th>offer_type</th>\n",
       "      <th>price</th>\n",
       "      <th>abtest</th>\n",
       "      <th>vehicle_type</th>\n",
       "      <th>registration_year</th>\n",
       "      <th>gearbox</th>\n",
       "      <th>powerps</th>\n",
       "      <th>model</th>\n",
       "      <th>odometer</th>\n",
       "      <th>registration_month</th>\n",
       "      <th>fuel_type</th>\n",
       "      <th>brand</th>\n",
       "      <th>unrepaired_damage</th>\n",
       "      <th>ad_created</th>\n",
       "      <th>pic_count</th>\n",
       "      <th>postal_code</th>\n",
       "      <th>last_seen</th>\n",
       "    </tr>\n",
       "  </thead>\n",
       "  <tbody>\n",
       "    <tr>\n",
       "      <th>count</th>\n",
       "      <td>50000</td>\n",
       "      <td>50000</td>\n",
       "      <td>50000</td>\n",
       "      <td>50000</td>\n",
       "      <td>50000</td>\n",
       "      <td>50000</td>\n",
       "      <td>50000</td>\n",
       "      <td>50000.000000</td>\n",
       "      <td>50000</td>\n",
       "      <td>50000.000000</td>\n",
       "      <td>47242</td>\n",
       "      <td>50000</td>\n",
       "      <td>50000.000000</td>\n",
       "      <td>50000</td>\n",
       "      <td>50000</td>\n",
       "      <td>50000</td>\n",
       "      <td>50000</td>\n",
       "      <td>50000.0</td>\n",
       "      <td>50000.000000</td>\n",
       "      <td>50000</td>\n",
       "    </tr>\n",
       "    <tr>\n",
       "      <th>unique</th>\n",
       "      <td>48213</td>\n",
       "      <td>38754</td>\n",
       "      <td>2</td>\n",
       "      <td>2</td>\n",
       "      <td>2357</td>\n",
       "      <td>2</td>\n",
       "      <td>9</td>\n",
       "      <td>NaN</td>\n",
       "      <td>3</td>\n",
       "      <td>NaN</td>\n",
       "      <td>245</td>\n",
       "      <td>13</td>\n",
       "      <td>NaN</td>\n",
       "      <td>8</td>\n",
       "      <td>40</td>\n",
       "      <td>3</td>\n",
       "      <td>76</td>\n",
       "      <td>NaN</td>\n",
       "      <td>NaN</td>\n",
       "      <td>39481</td>\n",
       "    </tr>\n",
       "    <tr>\n",
       "      <th>top</th>\n",
       "      <td>2016-03-05 16:57:05</td>\n",
       "      <td>Ford_Fiesta</td>\n",
       "      <td>private</td>\n",
       "      <td>bid</td>\n",
       "      <td>$0</td>\n",
       "      <td>test</td>\n",
       "      <td>limousine</td>\n",
       "      <td>NaN</td>\n",
       "      <td>manual</td>\n",
       "      <td>NaN</td>\n",
       "      <td>golf</td>\n",
       "      <td>150,000km</td>\n",
       "      <td>NaN</td>\n",
       "      <td>petrol</td>\n",
       "      <td>volkswagen</td>\n",
       "      <td>no</td>\n",
       "      <td>2016-04-03 00:00:00</td>\n",
       "      <td>NaN</td>\n",
       "      <td>NaN</td>\n",
       "      <td>2016-04-07 06:17:27</td>\n",
       "    </tr>\n",
       "    <tr>\n",
       "      <th>freq</th>\n",
       "      <td>3</td>\n",
       "      <td>78</td>\n",
       "      <td>49999</td>\n",
       "      <td>49999</td>\n",
       "      <td>1421</td>\n",
       "      <td>25756</td>\n",
       "      <td>12859</td>\n",
       "      <td>NaN</td>\n",
       "      <td>36993</td>\n",
       "      <td>NaN</td>\n",
       "      <td>4024</td>\n",
       "      <td>32424</td>\n",
       "      <td>NaN</td>\n",
       "      <td>30107</td>\n",
       "      <td>10687</td>\n",
       "      <td>35232</td>\n",
       "      <td>1946</td>\n",
       "      <td>NaN</td>\n",
       "      <td>NaN</td>\n",
       "      <td>8</td>\n",
       "    </tr>\n",
       "    <tr>\n",
       "      <th>mean</th>\n",
       "      <td>NaN</td>\n",
       "      <td>NaN</td>\n",
       "      <td>NaN</td>\n",
       "      <td>NaN</td>\n",
       "      <td>NaN</td>\n",
       "      <td>NaN</td>\n",
       "      <td>NaN</td>\n",
       "      <td>2005.073280</td>\n",
       "      <td>NaN</td>\n",
       "      <td>116.355920</td>\n",
       "      <td>NaN</td>\n",
       "      <td>NaN</td>\n",
       "      <td>5.723360</td>\n",
       "      <td>NaN</td>\n",
       "      <td>NaN</td>\n",
       "      <td>NaN</td>\n",
       "      <td>NaN</td>\n",
       "      <td>0.0</td>\n",
       "      <td>50813.627300</td>\n",
       "      <td>NaN</td>\n",
       "    </tr>\n",
       "    <tr>\n",
       "      <th>std</th>\n",
       "      <td>NaN</td>\n",
       "      <td>NaN</td>\n",
       "      <td>NaN</td>\n",
       "      <td>NaN</td>\n",
       "      <td>NaN</td>\n",
       "      <td>NaN</td>\n",
       "      <td>NaN</td>\n",
       "      <td>105.712813</td>\n",
       "      <td>NaN</td>\n",
       "      <td>209.216627</td>\n",
       "      <td>NaN</td>\n",
       "      <td>NaN</td>\n",
       "      <td>3.711984</td>\n",
       "      <td>NaN</td>\n",
       "      <td>NaN</td>\n",
       "      <td>NaN</td>\n",
       "      <td>NaN</td>\n",
       "      <td>0.0</td>\n",
       "      <td>25779.747957</td>\n",
       "      <td>NaN</td>\n",
       "    </tr>\n",
       "    <tr>\n",
       "      <th>min</th>\n",
       "      <td>NaN</td>\n",
       "      <td>NaN</td>\n",
       "      <td>NaN</td>\n",
       "      <td>NaN</td>\n",
       "      <td>NaN</td>\n",
       "      <td>NaN</td>\n",
       "      <td>NaN</td>\n",
       "      <td>1000.000000</td>\n",
       "      <td>NaN</td>\n",
       "      <td>0.000000</td>\n",
       "      <td>NaN</td>\n",
       "      <td>NaN</td>\n",
       "      <td>0.000000</td>\n",
       "      <td>NaN</td>\n",
       "      <td>NaN</td>\n",
       "      <td>NaN</td>\n",
       "      <td>NaN</td>\n",
       "      <td>0.0</td>\n",
       "      <td>1067.000000</td>\n",
       "      <td>NaN</td>\n",
       "    </tr>\n",
       "    <tr>\n",
       "      <th>25%</th>\n",
       "      <td>NaN</td>\n",
       "      <td>NaN</td>\n",
       "      <td>NaN</td>\n",
       "      <td>NaN</td>\n",
       "      <td>NaN</td>\n",
       "      <td>NaN</td>\n",
       "      <td>NaN</td>\n",
       "      <td>1999.000000</td>\n",
       "      <td>NaN</td>\n",
       "      <td>70.000000</td>\n",
       "      <td>NaN</td>\n",
       "      <td>NaN</td>\n",
       "      <td>3.000000</td>\n",
       "      <td>NaN</td>\n",
       "      <td>NaN</td>\n",
       "      <td>NaN</td>\n",
       "      <td>NaN</td>\n",
       "      <td>0.0</td>\n",
       "      <td>30451.000000</td>\n",
       "      <td>NaN</td>\n",
       "    </tr>\n",
       "    <tr>\n",
       "      <th>50%</th>\n",
       "      <td>NaN</td>\n",
       "      <td>NaN</td>\n",
       "      <td>NaN</td>\n",
       "      <td>NaN</td>\n",
       "      <td>NaN</td>\n",
       "      <td>NaN</td>\n",
       "      <td>NaN</td>\n",
       "      <td>2003.000000</td>\n",
       "      <td>NaN</td>\n",
       "      <td>105.000000</td>\n",
       "      <td>NaN</td>\n",
       "      <td>NaN</td>\n",
       "      <td>6.000000</td>\n",
       "      <td>NaN</td>\n",
       "      <td>NaN</td>\n",
       "      <td>NaN</td>\n",
       "      <td>NaN</td>\n",
       "      <td>0.0</td>\n",
       "      <td>49577.000000</td>\n",
       "      <td>NaN</td>\n",
       "    </tr>\n",
       "    <tr>\n",
       "      <th>75%</th>\n",
       "      <td>NaN</td>\n",
       "      <td>NaN</td>\n",
       "      <td>NaN</td>\n",
       "      <td>NaN</td>\n",
       "      <td>NaN</td>\n",
       "      <td>NaN</td>\n",
       "      <td>NaN</td>\n",
       "      <td>2008.000000</td>\n",
       "      <td>NaN</td>\n",
       "      <td>150.000000</td>\n",
       "      <td>NaN</td>\n",
       "      <td>NaN</td>\n",
       "      <td>9.000000</td>\n",
       "      <td>NaN</td>\n",
       "      <td>NaN</td>\n",
       "      <td>NaN</td>\n",
       "      <td>NaN</td>\n",
       "      <td>0.0</td>\n",
       "      <td>71540.000000</td>\n",
       "      <td>NaN</td>\n",
       "    </tr>\n",
       "    <tr>\n",
       "      <th>max</th>\n",
       "      <td>NaN</td>\n",
       "      <td>NaN</td>\n",
       "      <td>NaN</td>\n",
       "      <td>NaN</td>\n",
       "      <td>NaN</td>\n",
       "      <td>NaN</td>\n",
       "      <td>NaN</td>\n",
       "      <td>9999.000000</td>\n",
       "      <td>NaN</td>\n",
       "      <td>17700.000000</td>\n",
       "      <td>NaN</td>\n",
       "      <td>NaN</td>\n",
       "      <td>12.000000</td>\n",
       "      <td>NaN</td>\n",
       "      <td>NaN</td>\n",
       "      <td>NaN</td>\n",
       "      <td>NaN</td>\n",
       "      <td>0.0</td>\n",
       "      <td>99998.000000</td>\n",
       "      <td>NaN</td>\n",
       "    </tr>\n",
       "  </tbody>\n",
       "</table>\n",
       "</div>"
      ],
      "text/plain": [
       "               date_crawled         name   seller offer_type  price abtest  \\\n",
       "count                 50000        50000    50000      50000  50000  50000   \n",
       "unique                48213        38754        2          2   2357      2   \n",
       "top     2016-03-05 16:57:05  Ford_Fiesta  private        bid     $0   test   \n",
       "freq                      3           78    49999      49999   1421  25756   \n",
       "mean                    NaN          NaN      NaN        NaN    NaN    NaN   \n",
       "std                     NaN          NaN      NaN        NaN    NaN    NaN   \n",
       "min                     NaN          NaN      NaN        NaN    NaN    NaN   \n",
       "25%                     NaN          NaN      NaN        NaN    NaN    NaN   \n",
       "50%                     NaN          NaN      NaN        NaN    NaN    NaN   \n",
       "75%                     NaN          NaN      NaN        NaN    NaN    NaN   \n",
       "max                     NaN          NaN      NaN        NaN    NaN    NaN   \n",
       "\n",
       "       vehicle_type  registration_year gearbox       powerps  model  \\\n",
       "count         50000       50000.000000   50000  50000.000000  47242   \n",
       "unique            9                NaN       3           NaN    245   \n",
       "top       limousine                NaN  manual           NaN   golf   \n",
       "freq          12859                NaN   36993           NaN   4024   \n",
       "mean            NaN        2005.073280     NaN    116.355920    NaN   \n",
       "std             NaN         105.712813     NaN    209.216627    NaN   \n",
       "min             NaN        1000.000000     NaN      0.000000    NaN   \n",
       "25%             NaN        1999.000000     NaN     70.000000    NaN   \n",
       "50%             NaN        2003.000000     NaN    105.000000    NaN   \n",
       "75%             NaN        2008.000000     NaN    150.000000    NaN   \n",
       "max             NaN        9999.000000     NaN  17700.000000    NaN   \n",
       "\n",
       "         odometer  registration_month fuel_type       brand unrepaired_damage  \\\n",
       "count       50000        50000.000000     50000       50000             50000   \n",
       "unique         13                 NaN         8          40                 3   \n",
       "top     150,000km                 NaN    petrol  volkswagen                no   \n",
       "freq        32424                 NaN     30107       10687             35232   \n",
       "mean          NaN            5.723360       NaN         NaN               NaN   \n",
       "std           NaN            3.711984       NaN         NaN               NaN   \n",
       "min           NaN            0.000000       NaN         NaN               NaN   \n",
       "25%           NaN            3.000000       NaN         NaN               NaN   \n",
       "50%           NaN            6.000000       NaN         NaN               NaN   \n",
       "75%           NaN            9.000000       NaN         NaN               NaN   \n",
       "max           NaN           12.000000       NaN         NaN               NaN   \n",
       "\n",
       "                 ad_created  pic_count   postal_code            last_seen  \n",
       "count                 50000    50000.0  50000.000000                50000  \n",
       "unique                   76        NaN           NaN                39481  \n",
       "top     2016-04-03 00:00:00        NaN           NaN  2016-04-07 06:17:27  \n",
       "freq                   1946        NaN           NaN                    8  \n",
       "mean                    NaN        0.0  50813.627300                  NaN  \n",
       "std                     NaN        0.0  25779.747957                  NaN  \n",
       "min                     NaN        0.0   1067.000000                  NaN  \n",
       "25%                     NaN        0.0  30451.000000                  NaN  \n",
       "50%                     NaN        0.0  49577.000000                  NaN  \n",
       "75%                     NaN        0.0  71540.000000                  NaN  \n",
       "max                     NaN        0.0  99998.000000                  NaN  "
      ]
     },
     "execution_count": 6,
     "metadata": {},
     "output_type": "execute_result"
    }
   ],
   "source": [
    "#Looking at the descriptive statistics\n",
    "autos.describe(include='all')"
   ]
  },
  {
   "cell_type": "markdown",
   "metadata": {},
   "source": [
    "pic_count looks quite okay to drop since its maximum and minimum value is zero.\n",
    "\n",
    "postal_code might not be that useful (unless you are trying to visualize it on a map) since it is usually quite random . There are some zero values in price.\n",
    "\n",
    "All the dates type could also be problematic but it does have a clear pattern here. There are some creative ways parsing the dates using regular expression and maybe inserting a column for a month-year combo which will also be in string. \n",
    "\n",
    "price and odometer is still in strings because of some letters (if it is in numbers then the descriptive stats should pop up).\n",
    "\n",
    "seller and offer_type looks dropable since most of them it respectivly contains mostly the same value."
   ]
  },
  {
   "cell_type": "markdown",
   "metadata": {},
   "source": [
    "##### Dropping Some Data"
   ]
  },
  {
   "cell_type": "code",
   "execution_count": 7,
   "metadata": {},
   "outputs": [
    {
     "data": {
      "text/plain": [
       "Index(['date_crawled', 'name', 'price', 'abtest', 'vehicle_type',\n",
       "       'registration_year', 'gearbox', 'powerps', 'model', 'odometer',\n",
       "       'registration_month', 'fuel_type', 'brand', 'unrepaired_damage',\n",
       "       'ad_created', 'postal_code', 'last_seen'],\n",
       "      dtype='object')"
      ]
     },
     "execution_count": 7,
     "metadata": {},
     "output_type": "execute_result"
    }
   ],
   "source": [
    "#Dropping redundant columns\n",
    "autos.drop(columns=[\"pic_count\",\"seller\",\"offer_type\"],inplace=True)\n",
    "autos.columns"
   ]
  },
  {
   "cell_type": "markdown",
   "metadata": {},
   "source": [
    "##### Changing Odometer and Price into Numerics"
   ]
  },
  {
   "cell_type": "code",
   "execution_count": 8,
   "metadata": {},
   "outputs": [
    {
     "data": {
      "text/html": [
       "<div>\n",
       "<style scoped>\n",
       "    .dataframe tbody tr th:only-of-type {\n",
       "        vertical-align: middle;\n",
       "    }\n",
       "\n",
       "    .dataframe tbody tr th {\n",
       "        vertical-align: top;\n",
       "    }\n",
       "\n",
       "    .dataframe thead th {\n",
       "        text-align: right;\n",
       "    }\n",
       "</style>\n",
       "<table border=\"1\" class=\"dataframe\">\n",
       "  <thead>\n",
       "    <tr style=\"text-align: right;\">\n",
       "      <th></th>\n",
       "      <th>odometer_km</th>\n",
       "      <th>price</th>\n",
       "    </tr>\n",
       "  </thead>\n",
       "  <tbody>\n",
       "    <tr>\n",
       "      <th>0</th>\n",
       "      <td>150000</td>\n",
       "      <td>5000</td>\n",
       "    </tr>\n",
       "    <tr>\n",
       "      <th>1</th>\n",
       "      <td>150000</td>\n",
       "      <td>8500</td>\n",
       "    </tr>\n",
       "    <tr>\n",
       "      <th>2</th>\n",
       "      <td>70000</td>\n",
       "      <td>8990</td>\n",
       "    </tr>\n",
       "    <tr>\n",
       "      <th>3</th>\n",
       "      <td>70000</td>\n",
       "      <td>4350</td>\n",
       "    </tr>\n",
       "    <tr>\n",
       "      <th>4</th>\n",
       "      <td>150000</td>\n",
       "      <td>1350</td>\n",
       "    </tr>\n",
       "  </tbody>\n",
       "</table>\n",
       "</div>"
      ],
      "text/plain": [
       "   odometer_km  price\n",
       "0       150000   5000\n",
       "1       150000   8500\n",
       "2        70000   8990\n",
       "3        70000   4350\n",
       "4       150000   1350"
      ]
     },
     "execution_count": 8,
     "metadata": {},
     "output_type": "execute_result"
    }
   ],
   "source": [
    "#Converting odometer and price into numeric values\n",
    "tochange=[\"odometer\",\"price\"]\n",
    "\n",
    "for i in tochange:\n",
    "    autos[i].replace([\"(km)|(,)|(\\$)\"],[\"\"],regex=True,inplace=True)\n",
    "    autos[i]=autos[i].astype(int)\n",
    "\n",
    "#Renaming odometer column into odometer_km\n",
    "autos.rename(columns={\"odometer\":\"odometer_km\"},inplace=True)\n",
    "\n",
    "#Checking if changes have been made\n",
    "autos[[\"odometer_km\",\"price\"]].head(5)"
   ]
  },
  {
   "cell_type": "markdown",
   "metadata": {},
   "source": [
    "It's quite clear here that price and odometer could be modified into numbers. \n",
    "\n",
    "The idea for price is removing the dollar sign, for odometer is removing the km, and removing the comma for both. This could be done with regular expression as well as .str.replace. \n",
    "\n",
    "After that is done, there is a need to convert its value into intgers and voila. The odometer column label is also changed into odometer_km. Quick note that astype can be a bit annoying if we decide to re-run a specific cell."
   ]
  },
  {
   "cell_type": "markdown",
   "metadata": {},
   "source": [
    "##### Finding Outliers in Price"
   ]
  },
  {
   "cell_type": "code",
   "execution_count": 9,
   "metadata": {},
   "outputs": [
    {
     "data": {
      "text/plain": [
       "count    5.000000e+04\n",
       "mean     9.840044e+03\n",
       "std      4.811044e+05\n",
       "min      0.000000e+00\n",
       "25%      1.100000e+03\n",
       "50%      2.950000e+03\n",
       "75%      7.200000e+03\n",
       "max      1.000000e+08\n",
       "Name: price, dtype: float64"
      ]
     },
     "execution_count": 9,
     "metadata": {},
     "output_type": "execute_result"
    }
   ],
   "source": [
    "#Analyzing descriptive statistics of the price column\n",
    "autos[\"price\"].describe()"
   ]
  },
  {
   "cell_type": "markdown",
   "metadata": {},
   "source": [
    "One of the way to find outliers is by using the the range within the ±1.5xInter Quartile Range(IQR) of the dataset. Finding the IQR is relatively easy by simply finding both the first and the third quartile using NumPy. \n",
    "\n",
    "For price, there are 50000 rows of \"uncleaned\" data. Personally, you would instantly notice that zeros and the 10^7 will be outliers which might affect the descriptive statistics (for example inflated mean value)."
   ]
  },
  {
   "cell_type": "code",
   "execution_count": 10,
   "metadata": {
    "collapsed": true
   },
   "outputs": [],
   "source": [
    "#Function to create an outlier range using IQR\n",
    "def outlierrange(a):\n",
    "    q1,q3=np.percentile(autos[a],[25,75])\n",
    "    iqr=q3-q1\n",
    "    outrange_bottom=q1-1.5*iqr\n",
    "    outrange_upper=q3+1.5*iqr\n",
    "    return outrange_bottom,outrange_upper"
   ]
  },
  {
   "cell_type": "markdown",
   "metadata": {},
   "source": [
    "Above is a function to find the outlier range using IQR, \"a\" in the function can be filled with any column. Notice that it will return 2 values, so it needs to be assigned to two variables."
   ]
  },
  {
   "cell_type": "code",
   "execution_count": 11,
   "metadata": {},
   "outputs": [
    {
     "name": "stdout",
     "output_type": "stream",
     "text": [
      "The range will be  -8050.0  and  16350.0\n"
     ]
    }
   ],
   "source": [
    "#Creating outlier range for price\n",
    "outrange_price_bottom,outrange_price_upper=outlierrange(\"price\")\n",
    "print(\"The range will be \",outrange_price_bottom,\" and \",outrange_price_upper)"
   ]
  },
  {
   "cell_type": "code",
   "execution_count": 12,
   "metadata": {},
   "outputs": [
    {
     "data": {
      "text/plain": [
       "count    46216.000000\n",
       "mean      3963.696101\n",
       "std       3847.238683\n",
       "min          0.000000\n",
       "25%       1000.000000\n",
       "50%       2500.000000\n",
       "75%       5900.000000\n",
       "max      16350.000000\n",
       "Name: price, dtype: float64"
      ]
     },
     "execution_count": 12,
     "metadata": {},
     "output_type": "execute_result"
    }
   ],
   "source": [
    "#Selecting the Autos dataframe where the price value is in between the outlier range\n",
    "cleaned_price=autos.loc[autos[\"price\"].between(outrange_price_bottom,outrange_price_upper),\"price\"]\n",
    "\n",
    "#Checking the descriptive statistics\n",
    "cleaned_price.describe()"
   ]
  },
  {
   "cell_type": "markdown",
   "metadata": {},
   "source": [
    "This is a funny one actually, using the IQR method, it managed to clean the car that costs 10^7 but somehow manages to include  the free cars. To solve this, we just need to do the same thing as above but replace the range from 1 to max value."
   ]
  },
  {
   "cell_type": "code",
   "execution_count": 13,
   "metadata": {},
   "outputs": [
    {
     "data": {
      "text/plain": [
       "count    44795.000000\n",
       "mean      4089.433620\n",
       "std       3841.429247\n",
       "min          1.000000\n",
       "25%       1150.000000\n",
       "50%       2700.000000\n",
       "75%       5999.000000\n",
       "max      16350.000000\n",
       "Name: price, dtype: float64"
      ]
     },
     "execution_count": 13,
     "metadata": {},
     "output_type": "execute_result"
    }
   ],
   "source": [
    "#Checking the descriptive statistics after negative values and free cars are eliminated\n",
    "cleaned_price_nozero=autos.loc[autos[\"price\"].between(1,16350),:]\n",
    "cleaned_price_nozero[\"price\"].describe()"
   ]
  },
  {
   "cell_type": "markdown",
   "metadata": {},
   "source": [
    "##### Finding Outliers in Odometer in Kilometer"
   ]
  },
  {
   "cell_type": "code",
   "execution_count": 14,
   "metadata": {},
   "outputs": [
    {
     "data": {
      "text/plain": [
       "count     50000.000000\n",
       "mean     125732.700000\n",
       "std       40042.211706\n",
       "min        5000.000000\n",
       "25%      125000.000000\n",
       "50%      150000.000000\n",
       "75%      150000.000000\n",
       "max      150000.000000\n",
       "Name: odometer_km, dtype: float64"
      ]
     },
     "execution_count": 14,
     "metadata": {},
     "output_type": "execute_result"
    }
   ],
   "source": [
    "#Checking the descriptive statistics of the odometer column\n",
    "autos[\"odometer_km\"].describe()"
   ]
  },
  {
   "cell_type": "code",
   "execution_count": 15,
   "metadata": {},
   "outputs": [
    {
     "name": "stdout",
     "output_type": "stream",
     "text": [
      "The range will be between  87500.0  and  187500.0\n"
     ]
    }
   ],
   "source": [
    "#Finding the outlier range\n",
    "outrange_odometer_bottom,outrange_odometer_upper=outlierrange(\"odometer_km\")\n",
    "print(\"The range will be between \",outrange_odometer_bottom,\" and \",outrange_odometer_upper)"
   ]
  },
  {
   "cell_type": "code",
   "execution_count": 16,
   "metadata": {},
   "outputs": [
    {
     "data": {
      "text/plain": [
       "count     41520.000000\n",
       "mean     141736.030829\n",
       "std       17102.004255\n",
       "min       90000.000000\n",
       "25%      150000.000000\n",
       "50%      150000.000000\n",
       "75%      150000.000000\n",
       "max      150000.000000\n",
       "Name: odometer_km, dtype: float64"
      ]
     },
     "execution_count": 16,
     "metadata": {},
     "output_type": "execute_result"
    }
   ],
   "source": [
    "#Selecting the original dataframe which the odometer value is between the range\n",
    "cleaned_odometer=autos.loc[autos[\"odometer_km\"].between(outrange_odometer_bottom,outrange_odometer_upper),:]\n",
    "\n",
    "#Checking the descriptive statistics\n",
    "cleaned_odometer['odometer_km'].describe()"
   ]
  },
  {
   "cell_type": "markdown",
   "metadata": {},
   "source": [
    "Same thing to do here as that of \"price\" column, Using the function above, it should be easy to find the outlier range.\n",
    "\n",
    "After analyzing it, I decided to keep the \"outliers\" for this column. The original aim is to reduce data with 150,000 kilometer value but that can't be done using IQR. With the \"outliers\" gone, it increases the mean because there are less \"lower\" value data."
   ]
  },
  {
   "cell_type": "markdown",
   "metadata": {},
   "source": [
    "##### Dropping Some Data"
   ]
  },
  {
   "cell_type": "code",
   "execution_count": 17,
   "metadata": {},
   "outputs": [],
   "source": [
    "#Setting the outlier-free price dataframe as our main dataframe\n",
    "autos=cleaned_price_nozero"
   ]
  },
  {
   "cell_type": "code",
   "execution_count": 18,
   "metadata": {
    "scrolled": true
   },
   "outputs": [
    {
     "data": {
      "text/html": [
       "<div>\n",
       "<style scoped>\n",
       "    .dataframe tbody tr th:only-of-type {\n",
       "        vertical-align: middle;\n",
       "    }\n",
       "\n",
       "    .dataframe tbody tr th {\n",
       "        vertical-align: top;\n",
       "    }\n",
       "\n",
       "    .dataframe thead th {\n",
       "        text-align: right;\n",
       "    }\n",
       "</style>\n",
       "<table border=\"1\" class=\"dataframe\">\n",
       "  <thead>\n",
       "    <tr style=\"text-align: right;\">\n",
       "      <th></th>\n",
       "      <th>price</th>\n",
       "      <th>registration_year</th>\n",
       "      <th>powerps</th>\n",
       "      <th>odometer_km</th>\n",
       "      <th>registration_month</th>\n",
       "      <th>postal_code</th>\n",
       "    </tr>\n",
       "  </thead>\n",
       "  <tbody>\n",
       "    <tr>\n",
       "      <th>count</th>\n",
       "      <td>44795.000000</td>\n",
       "      <td>44795.00000</td>\n",
       "      <td>44795.000000</td>\n",
       "      <td>44795.000000</td>\n",
       "      <td>44795.000000</td>\n",
       "      <td>44795.000000</td>\n",
       "    </tr>\n",
       "    <tr>\n",
       "      <th>mean</th>\n",
       "      <td>4089.433620</td>\n",
       "      <td>2003.97339</td>\n",
       "      <td>109.394910</td>\n",
       "      <td>129762.361871</td>\n",
       "      <td>5.744012</td>\n",
       "      <td>50502.431789</td>\n",
       "    </tr>\n",
       "    <tr>\n",
       "      <th>std</th>\n",
       "      <td>3841.429247</td>\n",
       "      <td>74.81955</td>\n",
       "      <td>205.150622</td>\n",
       "      <td>36398.554742</td>\n",
       "      <td>3.707064</td>\n",
       "      <td>25726.937446</td>\n",
       "    </tr>\n",
       "    <tr>\n",
       "      <th>min</th>\n",
       "      <td>1.000000</td>\n",
       "      <td>1000.00000</td>\n",
       "      <td>0.000000</td>\n",
       "      <td>5000.000000</td>\n",
       "      <td>0.000000</td>\n",
       "      <td>1067.000000</td>\n",
       "    </tr>\n",
       "    <tr>\n",
       "      <th>25%</th>\n",
       "      <td>1150.000000</td>\n",
       "      <td>1999.00000</td>\n",
       "      <td>68.000000</td>\n",
       "      <td>125000.000000</td>\n",
       "      <td>3.000000</td>\n",
       "      <td>30159.000000</td>\n",
       "    </tr>\n",
       "    <tr>\n",
       "      <th>50%</th>\n",
       "      <td>2700.000000</td>\n",
       "      <td>2003.00000</td>\n",
       "      <td>102.000000</td>\n",
       "      <td>150000.000000</td>\n",
       "      <td>6.000000</td>\n",
       "      <td>49356.000000</td>\n",
       "    </tr>\n",
       "    <tr>\n",
       "      <th>75%</th>\n",
       "      <td>5999.000000</td>\n",
       "      <td>2007.00000</td>\n",
       "      <td>140.000000</td>\n",
       "      <td>150000.000000</td>\n",
       "      <td>9.000000</td>\n",
       "      <td>71069.000000</td>\n",
       "    </tr>\n",
       "    <tr>\n",
       "      <th>max</th>\n",
       "      <td>16350.000000</td>\n",
       "      <td>9999.00000</td>\n",
       "      <td>17700.000000</td>\n",
       "      <td>150000.000000</td>\n",
       "      <td>12.000000</td>\n",
       "      <td>99998.000000</td>\n",
       "    </tr>\n",
       "  </tbody>\n",
       "</table>\n",
       "</div>"
      ],
      "text/plain": [
       "              price  registration_year       powerps    odometer_km  \\\n",
       "count  44795.000000        44795.00000  44795.000000   44795.000000   \n",
       "mean    4089.433620         2003.97339    109.394910  129762.361871   \n",
       "std     3841.429247           74.81955    205.150622   36398.554742   \n",
       "min        1.000000         1000.00000      0.000000    5000.000000   \n",
       "25%     1150.000000         1999.00000     68.000000  125000.000000   \n",
       "50%     2700.000000         2003.00000    102.000000  150000.000000   \n",
       "75%     5999.000000         2007.00000    140.000000  150000.000000   \n",
       "max    16350.000000         9999.00000  17700.000000  150000.000000   \n",
       "\n",
       "       registration_month   postal_code  \n",
       "count        44795.000000  44795.000000  \n",
       "mean             5.744012  50502.431789  \n",
       "std              3.707064  25726.937446  \n",
       "min              0.000000   1067.000000  \n",
       "25%              3.000000  30159.000000  \n",
       "50%              6.000000  49356.000000  \n",
       "75%              9.000000  71069.000000  \n",
       "max             12.000000  99998.000000  "
      ]
     },
     "execution_count": 18,
     "metadata": {},
     "output_type": "execute_result"
    }
   ],
   "source": [
    "#Checking the descriptive statistics\n",
    "autos.describe()"
   ]
  },
  {
   "cell_type": "markdown",
   "metadata": {},
   "source": [
    "As mentioned above, only the outliers from the \"price\" column are dropped because dropping outliers from \"odometer_km\" column might actually ruin the descriptive statistics later on. \n",
    "\n",
    "So as we can see here, the count is exactly the same as the dropping outliers value from the \"price\" column. The count reduces from 50,000 data to 44,795 data. From only dropping the outliers from \"price\" column, it still increases the mean of \"odometer_km\"."
   ]
  },
  {
   "cell_type": "markdown",
   "metadata": {},
   "source": [
    "#### 2. Cleaning Dates"
   ]
  },
  {
   "cell_type": "markdown",
   "metadata": {},
   "source": [
    "##### Quick Peek into How It is Formatted"
   ]
  },
  {
   "cell_type": "code",
   "execution_count": 19,
   "metadata": {},
   "outputs": [
    {
     "data": {
      "text/html": [
       "<div>\n",
       "<style scoped>\n",
       "    .dataframe tbody tr th:only-of-type {\n",
       "        vertical-align: middle;\n",
       "    }\n",
       "\n",
       "    .dataframe tbody tr th {\n",
       "        vertical-align: top;\n",
       "    }\n",
       "\n",
       "    .dataframe thead th {\n",
       "        text-align: right;\n",
       "    }\n",
       "</style>\n",
       "<table border=\"1\" class=\"dataframe\">\n",
       "  <thead>\n",
       "    <tr style=\"text-align: right;\">\n",
       "      <th></th>\n",
       "      <th>date_crawled</th>\n",
       "      <th>ad_created</th>\n",
       "      <th>last_seen</th>\n",
       "    </tr>\n",
       "  </thead>\n",
       "  <tbody>\n",
       "    <tr>\n",
       "      <th>0</th>\n",
       "      <td>2016-03-26 17:47:46</td>\n",
       "      <td>2016-03-26 00:00:00</td>\n",
       "      <td>2016-04-06 06:45:54</td>\n",
       "    </tr>\n",
       "    <tr>\n",
       "      <th>1</th>\n",
       "      <td>2016-04-04 13:38:56</td>\n",
       "      <td>2016-04-04 00:00:00</td>\n",
       "      <td>2016-04-06 14:45:08</td>\n",
       "    </tr>\n",
       "    <tr>\n",
       "      <th>2</th>\n",
       "      <td>2016-03-26 18:57:24</td>\n",
       "      <td>2016-03-26 00:00:00</td>\n",
       "      <td>2016-04-06 20:15:37</td>\n",
       "    </tr>\n",
       "  </tbody>\n",
       "</table>\n",
       "</div>"
      ],
      "text/plain": [
       "          date_crawled           ad_created            last_seen\n",
       "0  2016-03-26 17:47:46  2016-03-26 00:00:00  2016-04-06 06:45:54\n",
       "1  2016-04-04 13:38:56  2016-04-04 00:00:00  2016-04-06 14:45:08\n",
       "2  2016-03-26 18:57:24  2016-03-26 00:00:00  2016-04-06 20:15:37"
      ]
     },
     "execution_count": 19,
     "metadata": {},
     "output_type": "execute_result"
    }
   ],
   "source": [
    "#Looking at the first three rows of the date columns\n",
    "autos[['date_crawled','ad_created','last_seen']][0:3]"
   ]
  },
  {
   "cell_type": "markdown",
   "metadata": {},
   "source": [
    "So here is a table of three out of the five date types that follows a certain pattern. For the sake of naming things let's call this one Type 1. The first 10 characters indicates the calendar date while the next 8 (excluding the space) is the time. This could also be done using regular expression or just .split() since we know that there will be a space in between the calendar date and the time."
   ]
  },
  {
   "cell_type": "code",
   "execution_count": 20,
   "metadata": {},
   "outputs": [
    {
     "data": {
      "text/html": [
       "<div>\n",
       "<style scoped>\n",
       "    .dataframe tbody tr th:only-of-type {\n",
       "        vertical-align: middle;\n",
       "    }\n",
       "\n",
       "    .dataframe tbody tr th {\n",
       "        vertical-align: top;\n",
       "    }\n",
       "\n",
       "    .dataframe thead th {\n",
       "        text-align: right;\n",
       "    }\n",
       "</style>\n",
       "<table border=\"1\" class=\"dataframe\">\n",
       "  <thead>\n",
       "    <tr style=\"text-align: right;\">\n",
       "      <th></th>\n",
       "      <th>registration_month</th>\n",
       "      <th>registration_year</th>\n",
       "    </tr>\n",
       "  </thead>\n",
       "  <tbody>\n",
       "    <tr>\n",
       "      <th>0</th>\n",
       "      <td>3</td>\n",
       "      <td>2004</td>\n",
       "    </tr>\n",
       "    <tr>\n",
       "      <th>1</th>\n",
       "      <td>6</td>\n",
       "      <td>1997</td>\n",
       "    </tr>\n",
       "    <tr>\n",
       "      <th>2</th>\n",
       "      <td>7</td>\n",
       "      <td>2009</td>\n",
       "    </tr>\n",
       "  </tbody>\n",
       "</table>\n",
       "</div>"
      ],
      "text/plain": [
       "   registration_month  registration_year\n",
       "0                   3               2004\n",
       "1                   6               1997\n",
       "2                   7               2009"
      ]
     },
     "execution_count": 20,
     "metadata": {},
     "output_type": "execute_result"
    }
   ],
   "source": [
    "#Looking at the first three rows of the separated date columns\n",
    "autos[['registration_month','registration_year']][0:3]"
   ]
  },
  {
   "cell_type": "markdown",
   "metadata": {},
   "source": [
    "This one is a bit easier to handle since it is formatted quite nicely and separate from each other. Let's call this as Type 2. The job here is already done by the original .csv. It is possible to map the values in \"registration_month\" to string months (i.e. 1 will be January and so on). \"registration_year\" column is usually too good to be true."
   ]
  },
  {
   "cell_type": "markdown",
   "metadata": {},
   "source": [
    "##### Function to Parse Type 1"
   ]
  },
  {
   "cell_type": "code",
   "execution_count": 21,
   "metadata": {},
   "outputs": [],
   "source": [
    "def type1parse(a):\n",
    "    return autos[a].str.extract(\"(.*) \",expand=False)"
   ]
  },
  {
   "cell_type": "markdown",
   "metadata": {},
   "source": [
    "The function above is to parse Type 1 date format. It uses regular expression in order to select characters before the space occurs. The reason why a separate function is created instead of doing it one by one is just to make the code shorter and neater especially because this function can be used for the distribution of all three Type 1 data."
   ]
  },
  {
   "cell_type": "markdown",
   "metadata": {},
   "source": [
    "##### Distribution of \"date_crawled\""
   ]
  },
  {
   "cell_type": "code",
   "execution_count": 22,
   "metadata": {},
   "outputs": [
    {
     "name": "stdout",
     "output_type": "stream",
     "text": [
      "date_crawled distribution:\n",
      " 2016-04-07    0.001317\n",
      "2016-04-06    0.003170\n",
      "2016-04-05    0.012948\n",
      "2016-04-04    0.036366\n",
      "2016-04-03    0.038531\n",
      "2016-04-02    0.034982\n",
      "2016-04-01    0.032794\n",
      "2016-03-31    0.031588\n",
      "2016-03-30    0.033865\n",
      "2016-03-29    0.034200\n",
      "2016-03-28    0.034781\n",
      "2016-03-27    0.030718\n",
      "2016-03-26    0.032593\n",
      "2016-03-25    0.032013\n",
      "2016-03-24    0.029378\n",
      "2016-03-23    0.032481\n",
      "2016-03-22    0.032727\n",
      "2016-03-21    0.037192\n",
      "2016-03-20    0.037705\n",
      "2016-03-19    0.034200\n",
      "2016-03-18    0.012769\n",
      "2016-03-17    0.031990\n",
      "2016-03-16    0.029959\n",
      "2016-03-15    0.034178\n",
      "2016-03-14    0.036991\n",
      "2016-03-13    0.015604\n",
      "2016-03-12    0.037393\n",
      "2016-03-11    0.032481\n",
      "2016-03-10    0.032705\n",
      "2016-03-09    0.033129\n",
      "2016-03-08    0.033642\n",
      "2016-03-07    0.036098\n",
      "2016-03-06    0.013997\n",
      "2016-03-05    0.025516\n",
      "Name: date_crawled, dtype: float64 \n",
      "\n",
      "date_crawled max values:\n",
      " 2016-04-03    0.038531\n",
      "2016-03-20    0.037705\n",
      "2016-03-12    0.037393\n",
      "Name: date_crawled, dtype: float64 \n",
      "\n",
      "date_crawled min values:\n",
      " 2016-03-18    0.012769\n",
      "2016-04-06    0.003170\n",
      "2016-04-07    0.001317\n",
      "Name: date_crawled, dtype: float64\n"
     ]
    }
   ],
   "source": [
    "#Parsing the date_crawled column using the type1parse function\n",
    "tem_date_crawled=type1parse(\"date_crawled\")\n",
    "\n",
    "#Looking at the distribution of the date_crawled column\n",
    "dis_date_crawled=tem_date_crawled.value_counts(\n",
    "    normalize=True,dropna=False).sort_index(ascending=False)\n",
    "\n",
    "max_date_crawled=tem_date_crawled.value_counts(\n",
    "    normalize=True,dropna=False).head(3)\n",
    "\n",
    "min_date_crawled=tem_date_crawled.value_counts(\n",
    "    normalize=True,dropna=False).tail(3)\n",
    "\n",
    "print(\"date_crawled distribution:\\n\",dis_date_crawled,\"\\n\")\n",
    "print(\"date_crawled max values:\\n\",max_date_crawled,'\\n')\n",
    "print(\"date_crawled min values:\\n\",min_date_crawled)"
   ]
  },
  {
   "cell_type": "markdown",
   "metadata": {},
   "source": [
    "From the first series, the latest data was crawled on the April 7th 2016 and the earliest was crawled on March 5th 2016. \n",
    "\n",
    "April 3rd 2016 (3.8531 percent) was the day where most data were crawled and April 7th 2016 (0.1317 percent) was the least."
   ]
  },
  {
   "cell_type": "markdown",
   "metadata": {},
   "source": [
    "##### Distribution of \"ad_created\""
   ]
  },
  {
   "cell_type": "code",
   "execution_count": 23,
   "metadata": {},
   "outputs": [
    {
     "name": "stdout",
     "output_type": "stream",
     "text": [
      "ad_created distribution:\n",
      " 2016-04-07    0.001183\n",
      "2016-04-06    0.003237\n",
      "2016-04-05    0.011653\n",
      "2016-04-04    0.036701\n",
      "2016-04-03    0.038799\n",
      "2016-04-02    0.034691\n",
      "2016-04-01    0.032838\n",
      "2016-03-31    0.031633\n",
      "2016-03-30    0.033664\n",
      "2016-03-29    0.034044\n",
      "2016-03-28    0.035049\n",
      "2016-03-27    0.030561\n",
      "2016-03-26    0.032615\n",
      "2016-03-25    0.032102\n",
      "2016-03-24    0.029356\n",
      "2016-03-23    0.032347\n",
      "2016-03-22    0.032571\n",
      "2016-03-21    0.037370\n",
      "2016-03-20    0.037772\n",
      "2016-03-19    0.033084\n",
      "2016-03-18    0.013528\n",
      "2016-03-17    0.031521\n",
      "2016-03-16    0.030450\n",
      "2016-03-15    0.033999\n",
      "2016-03-14    0.035674\n",
      "2016-03-13    0.016855\n",
      "2016-03-12    0.037236\n",
      "2016-03-11    0.032838\n",
      "2016-03-10    0.032414\n",
      "2016-03-09    0.033196\n",
      "                ...   \n",
      "2016-02-24    0.000022\n",
      "2016-02-23    0.000089\n",
      "2016-02-22    0.000022\n",
      "2016-02-21    0.000067\n",
      "2016-02-20    0.000045\n",
      "2016-02-19    0.000067\n",
      "2016-02-18    0.000045\n",
      "2016-02-17    0.000022\n",
      "2016-02-16    0.000022\n",
      "2016-02-14    0.000022\n",
      "2016-02-12    0.000045\n",
      "2016-02-11    0.000022\n",
      "2016-02-09    0.000022\n",
      "2016-02-08    0.000022\n",
      "2016-02-05    0.000045\n",
      "2016-02-02    0.000045\n",
      "2016-02-01    0.000022\n",
      "2016-01-29    0.000022\n",
      "2016-01-27    0.000067\n",
      "2016-01-22    0.000022\n",
      "2016-01-16    0.000022\n",
      "2016-01-13    0.000022\n",
      "2016-01-10    0.000045\n",
      "2016-01-07    0.000022\n",
      "2016-01-03    0.000022\n",
      "2015-12-30    0.000022\n",
      "2015-12-05    0.000022\n",
      "2015-11-10    0.000022\n",
      "2015-09-09    0.000022\n",
      "2015-08-10    0.000022\n",
      "Name: ad_created, Length: 73, dtype: float64 \n",
      "\n",
      "ad_created max values:\n",
      " 2016-04-03    0.038799\n",
      "2016-03-20    0.037772\n",
      "2016-03-21    0.037370\n",
      "Name: ad_created, dtype: float64 \n",
      "\n",
      "ad_created min values:\n",
      " 2016-02-22    0.000022\n",
      "2016-02-16    0.000022\n",
      "2016-01-03    0.000022\n",
      "2015-11-10    0.000022\n",
      "2015-12-05    0.000022\n",
      "2016-02-17    0.000022\n",
      "2016-01-07    0.000022\n",
      "2016-02-11    0.000022\n",
      "2016-01-16    0.000022\n",
      "2016-02-08    0.000022\n",
      "2016-02-09    0.000022\n",
      "2016-02-14    0.000022\n",
      "2015-09-09    0.000022\n",
      "2016-01-29    0.000022\n",
      "2016-01-13    0.000022\n",
      "2015-08-10    0.000022\n",
      "2015-12-30    0.000022\n",
      "2016-02-01    0.000022\n",
      "2016-01-22    0.000022\n",
      "2016-02-24    0.000022\n",
      "Name: ad_created, dtype: float64\n"
     ]
    }
   ],
   "source": [
    "#Parsing the ad_created column\n",
    "tem_ad_created=type1parse(\"ad_created\")\n",
    "\n",
    "#Checking the distribution of the column\n",
    "dis_ad_created=tem_ad_created.value_counts(\n",
    "    normalize=True,dropna=False).sort_index(ascending=False)\n",
    "\n",
    "max_ad_created=tem_ad_created.value_counts(\n",
    "    normalize=True,dropna=False).head(3)\n",
    "\n",
    "min_ad_created=tem_ad_created.value_counts(\n",
    "    normalize=True,dropna=False).tail(20)\n",
    "\n",
    "print(\"ad_created distribution:\\n\",dis_ad_created,\"\\n\")\n",
    "print(\"ad_created max values:\\n\",max_ad_created,'\\n')\n",
    "print(\"ad_created min values:\\n\",min_ad_created)"
   ]
  },
  {
   "cell_type": "markdown",
   "metadata": {},
   "source": [
    "From the first series, the latest ad was created on the April 7th 2016 and the earliest was created on August 10th 2015. \n",
    "\n",
    "April 3rd 2016 (3.8799 percent) was the day where most ads were created. There are 20 dates which have the lowest ads created percentage (0.0022 percent), the corresponding dates are shown above."
   ]
  },
  {
   "cell_type": "markdown",
   "metadata": {},
   "source": [
    "##### Distribution of \"last_seen\""
   ]
  },
  {
   "cell_type": "code",
   "execution_count": 24,
   "metadata": {},
   "outputs": [
    {
     "name": "stdout",
     "output_type": "stream",
     "text": [
      "last_seen distribution:\n",
      " 2016-04-07    0.126175\n",
      "2016-04-06    0.214332\n",
      "2016-04-05    0.121286\n",
      "2016-04-04    0.025047\n",
      "2016-04-03    0.025673\n",
      "2016-04-02    0.025226\n",
      "2016-04-01    0.023306\n",
      "2016-03-31    0.024333\n",
      "2016-03-30    0.025472\n",
      "2016-03-29    0.023016\n",
      "2016-03-28    0.021699\n",
      "2016-03-27    0.016207\n",
      "2016-03-26    0.017234\n",
      "2016-03-25    0.020002\n",
      "2016-03-24    0.020449\n",
      "2016-03-23    0.019109\n",
      "2016-03-22    0.021922\n",
      "2016-03-21    0.021185\n",
      "2016-03-20    0.021230\n",
      "2016-03-19    0.016475\n",
      "2016-03-18    0.007568\n",
      "2016-03-17    0.029043\n",
      "2016-03-16    0.016966\n",
      "2016-03-15    0.016274\n",
      "2016-03-14    0.012859\n",
      "2016-03-13    0.009376\n",
      "2016-03-12    0.024936\n",
      "2016-03-11    0.013037\n",
      "2016-03-10    0.011162\n",
      "2016-03-09    0.010068\n",
      "2016-03-08    0.007903\n",
      "2016-03-07    0.005693\n",
      "2016-03-06    0.004576\n",
      "2016-03-05    0.001161\n",
      "Name: last_seen, dtype: float64 \n",
      "\n",
      "last_seen max values:\n",
      " 2016-04-06    0.214332\n",
      "2016-04-07    0.126175\n",
      "2016-04-05    0.121286\n",
      "Name: last_seen, dtype: float64 \n",
      "\n",
      "last_seen min values:\n",
      " 2016-03-07    0.005693\n",
      "2016-03-06    0.004576\n",
      "2016-03-05    0.001161\n",
      "Name: last_seen, dtype: float64\n"
     ]
    }
   ],
   "source": [
    "#Parsing the last seen column\n",
    "tem_last_seen=type1parse(\"last_seen\")\n",
    "\n",
    "#Finding the distribution of the column\n",
    "dis_last_seen=tem_last_seen.value_counts(\n",
    "    normalize=True,dropna=False).sort_index(ascending=False)\n",
    "\n",
    "max_last_seen=tem_last_seen.value_counts(\n",
    "    normalize=True,dropna=False).head(3)\n",
    "\n",
    "min_last_seen=tem_last_seen.value_counts(\n",
    "    normalize=True,dropna=False).tail(3)\n",
    "\n",
    "print(\"last_seen distribution:\\n\",dis_last_seen,\"\\n\")\n",
    "print(\"last_seen max values:\\n\",max_last_seen,'\\n')\n",
    "print(\"last_seen min values:\\n\",min_last_seen)"
   ]
  },
  {
   "cell_type": "markdown",
   "metadata": {},
   "source": [
    "From the first series, the latest the crawler last seen some of the ads on the April 7th 2016 (also the last day of crawling the data) and the earliest it was last seen was on March 5th 2016 (the earliest day of crawling the data). \n",
    "\n",
    "April 6th 2016 (2.14332 percent) was the day where most data were last seen and March 5th 2016 (0.1161 percent) was the least."
   ]
  },
  {
   "cell_type": "markdown",
   "metadata": {},
   "source": [
    "##### Looking at \"registration_year\""
   ]
  },
  {
   "cell_type": "code",
   "execution_count": 25,
   "metadata": {},
   "outputs": [
    {
     "data": {
      "text/plain": [
       "count    44795.00000\n",
       "mean      2003.97339\n",
       "std         74.81955\n",
       "min       1000.00000\n",
       "25%       1999.00000\n",
       "50%       2003.00000\n",
       "75%       2007.00000\n",
       "max       9999.00000\n",
       "Name: registration_year, dtype: float64"
      ]
     },
     "execution_count": 25,
     "metadata": {},
     "output_type": "execute_result"
    }
   ],
   "source": [
    "#Descriptive statistics of registration year\n",
    "autos[\"registration_year\"].describe()"
   ]
  },
  {
   "cell_type": "markdown",
   "metadata": {},
   "source": [
    "As can be seen above, there are a couple of things to note here. First is that there is at least a car which is registered way before car was invented. Second is that there is a car registered in the way ahead in the future. Obviously, they are considered as unwanted data points, hence we will drop it from the table.\n",
    "\n",
    "The latest the data was crawled in 2016, thus we set it as our upper bound. While the first ever car was invented in 1886 by Carl Benz , thus it is safe to use it as our lower bound."
   ]
  },
  {
   "cell_type": "code",
   "execution_count": 26,
   "metadata": {},
   "outputs": [
    {
     "data": {
      "text/plain": [
       "count    42959.000000\n",
       "mean      2002.395191\n",
       "std          6.750207\n",
       "min       1910.000000\n",
       "25%       1999.000000\n",
       "50%       2003.000000\n",
       "75%       2007.000000\n",
       "max       2016.000000\n",
       "Name: registration_year, dtype: float64"
      ]
     },
     "execution_count": 26,
     "metadata": {},
     "output_type": "execute_result"
    }
   ],
   "source": [
    "#Removing years that is outside the range of 1886 and 2016 inclusive\n",
    "reg_year_slice=autos.loc[autos[\"registration_year\"].between(1886,2016),:]\n",
    "reg_year_slice[\"registration_year\"].describe()"
   ]
  },
  {
   "cell_type": "markdown",
   "metadata": {},
   "source": [
    "After dropping the unwanted data points, we can see that the earliest the car was registered was in the 1910 and the latest was in 2016. This selection makes so much sense and thus we can use it for further inspection"
   ]
  },
  {
   "cell_type": "code",
   "execution_count": 27,
   "metadata": {
    "collapsed": true
   },
   "outputs": [],
   "source": [
    "#Removing the unwanted \"registration_year\" data from autos\n",
    "autos=reg_year_slice "
   ]
  },
  {
   "cell_type": "markdown",
   "metadata": {},
   "source": [
    "##### Distribution of \"registration_year\""
   ]
  },
  {
   "cell_type": "code",
   "execution_count": 28,
   "metadata": {},
   "outputs": [
    {
     "data": {
      "text/plain": [
       "2000    0.073140\n",
       "2005    0.067227\n",
       "1999    0.067227\n",
       "2003    0.062129\n",
       "2004    0.061920\n",
       "2001    0.060895\n",
       "2006    0.060127\n",
       "2002    0.057264\n",
       "1998    0.054703\n",
       "2007    0.049512\n",
       "2008    0.046207\n",
       "1997    0.045252\n",
       "2009    0.042087\n",
       "1996    0.031705\n",
       "2010    0.028539\n",
       "1995    0.028399\n",
       "2016    0.027421\n",
       "2011    0.025699\n",
       "2012    0.018622\n",
       "1994    0.014432\n",
       "1993    0.009684\n",
       "2013    0.009218\n",
       "1992    0.008357\n",
       "1990    0.007915\n",
       "1991    0.007682\n",
       "2014    0.005610\n",
       "1989    0.003981\n",
       "1988    0.003119\n",
       "2015    0.002561\n",
       "1985    0.002095\n",
       "          ...   \n",
       "1972    0.000605\n",
       "1960    0.000466\n",
       "1977    0.000442\n",
       "1971    0.000442\n",
       "1973    0.000442\n",
       "1976    0.000396\n",
       "1968    0.000396\n",
       "1975    0.000372\n",
       "1967    0.000372\n",
       "1974    0.000349\n",
       "1969    0.000349\n",
       "1966    0.000256\n",
       "1965    0.000256\n",
       "1964    0.000210\n",
       "1910    0.000116\n",
       "1961    0.000116\n",
       "1956    0.000093\n",
       "1962    0.000093\n",
       "1959    0.000093\n",
       "1963    0.000093\n",
       "1958    0.000070\n",
       "1950    0.000070\n",
       "1937    0.000070\n",
       "1934    0.000047\n",
       "1954    0.000047\n",
       "1929    0.000023\n",
       "1941    0.000023\n",
       "1953    0.000023\n",
       "1938    0.000023\n",
       "1952    0.000023\n",
       "Name: registration_year, Length: 70, dtype: float64"
      ]
     },
     "execution_count": 28,
     "metadata": {},
     "output_type": "execute_result"
    }
   ],
   "source": [
    "#Previewing the distribution of registration year\n",
    "autos[\"registration_year\"].value_counts(normalize=True)"
   ]
  },
  {
   "cell_type": "markdown",
   "metadata": {},
   "source": [
    "Based on the distribution of \"registration_year\", we can see that based on the ads on German eBay, most cars (7.314 percent) were registered in the year 2000. There are 5 years where there are the least amount of cars registered which were 1929, 1941, 1953, 1938, and 1952 with the value of 0.0023 percent for each."
   ]
  },
  {
   "cell_type": "markdown",
   "metadata": {},
   "source": [
    "### Analyzing Ads Based on Car Brands"
   ]
  },
  {
   "cell_type": "markdown",
   "metadata": {},
   "source": [
    "#### Selecting the Brands"
   ]
  },
  {
   "cell_type": "code",
   "execution_count": 29,
   "metadata": {},
   "outputs": [
    {
     "data": {
      "text/plain": [
       "40"
      ]
     },
     "execution_count": 29,
     "metadata": {},
     "output_type": "execute_result"
    }
   ],
   "source": [
    "#looking at the number of unique entry in brand\n",
    "autos[\"brand\"].nunique()"
   ]
  },
  {
   "cell_type": "code",
   "execution_count": 30,
   "metadata": {},
   "outputs": [
    {
     "data": {
      "text/plain": [
       "volkswagen        0.214763\n",
       "opel              0.115203\n",
       "bmw               0.103541\n",
       "mercedes_benz     0.088131\n",
       "audi              0.077562\n",
       "ford              0.073093\n",
       "renault           0.050769\n",
       "peugeot           0.032170\n",
       "fiat              0.027747\n",
       "seat              0.019088\n",
       "skoda             0.016993\n",
       "mazda             0.016085\n",
       "nissan            0.015782\n",
       "smart             0.015363\n",
       "citroen           0.015038\n",
       "toyota            0.013362\n",
       "hyundai           0.010545\n",
       "volvo             0.009334\n",
       "mitsubishi        0.008706\n",
       "sonstige_autos    0.008496\n",
       "honda             0.008334\n",
       "mini              0.007752\n",
       "alfa_romeo        0.007007\n",
       "kia               0.006960\n",
       "suzuki            0.006378\n",
       "chevrolet         0.005750\n",
       "chrysler          0.003748\n",
       "dacia             0.002863\n",
       "daihatsu          0.002724\n",
       "subaru            0.002211\n",
       "jeep              0.002002\n",
       "porsche           0.001886\n",
       "saab              0.001769\n",
       "daewoo            0.001629\n",
       "trabant           0.001513\n",
       "rover             0.001420\n",
       "land_rover        0.001304\n",
       "jaguar            0.001234\n",
       "lancia            0.001117\n",
       "lada              0.000629\n",
       "Name: brand, dtype: float64"
      ]
     },
     "execution_count": 30,
     "metadata": {},
     "output_type": "execute_result"
    }
   ],
   "source": [
    "#Distribution of brand\n",
    "autos[\"brand\"].value_counts(normalize=True)"
   ]
  },
  {
   "cell_type": "markdown",
   "metadata": {},
   "source": [
    "So there are 40 unique car brands available for sale. For this instance we are trying to choose brands which have at least 10 percent proportion of the ads on eBay at the time."
   ]
  },
  {
   "cell_type": "code",
   "execution_count": 31,
   "metadata": {},
   "outputs": [
    {
     "data": {
      "text/plain": [
       "['volkswagen',\n",
       " 'opel',\n",
       " 'bmw',\n",
       " 'mercedes_benz',\n",
       " 'audi',\n",
       " 'ford',\n",
       " 'renault',\n",
       " 'peugeot',\n",
       " 'fiat',\n",
       " 'seat',\n",
       " 'skoda',\n",
       " 'mazda',\n",
       " 'nissan',\n",
       " 'smart',\n",
       " 'citroen',\n",
       " 'toyota',\n",
       " 'hyundai']"
      ]
     },
     "execution_count": 31,
     "metadata": {},
     "output_type": "execute_result"
    }
   ],
   "source": [
    "#Selecting car brands that distribution is higher than 0.1\n",
    "perc=autos[\"brand\"].value_counts(normalize=True).tolist()\n",
    "ind=autos[\"brand\"].value_counts(normalize=True).index.tolist()\n",
    "selection=list()\n",
    "\n",
    "i=0\n",
    "while perc[i]>0.01:\n",
    "    selection.append(ind[i])\n",
    "    i+=1\n",
    "\n",
    "#Car brands we will use\n",
    "selection "
   ]
  },
  {
   "cell_type": "markdown",
   "metadata": {},
   "source": [
    "#### Calculating the \"price\" Mean for Each Brand"
   ]
  },
  {
   "cell_type": "code",
   "execution_count": 32,
   "metadata": {},
   "outputs": [
    {
     "data": {
      "text/plain": [
       "audi             5703.895858\n",
       "bmw              5649.202563\n",
       "skoda            5586.035616\n",
       "mercedes_benz    5259.880877\n",
       "hyundai          4876.512141\n",
       "toyota           4594.972125\n",
       "volkswagen       4183.019618\n",
       "nissan           3899.321534\n",
       "seat             3747.804878\n",
       "smart            3560.118182\n",
       "mazda            3557.382055\n",
       "citroen          3543.492260\n",
       "peugeot          2967.945007\n",
       "ford             2944.803822\n",
       "fiat             2740.820470\n",
       "opel             2712.995959\n",
       "renault          2281.461256\n",
       "dtype: float64"
      ]
     },
     "execution_count": 32,
     "metadata": {},
     "output_type": "execute_result"
    }
   ],
   "source": [
    "agg_mean_price=dict()\n",
    "\n",
    "for i in selection:\n",
    "    agg_mean_price[i]=autos.loc[autos[\"brand\"]==i,\"price\"].mean()\n",
    "    \n",
    "agg_mean_price=pd.Series(agg_mean_price)\n",
    "agg_mean_price.sort_values(ascending=False)"
   ]
  },
  {
   "cell_type": "markdown",
   "metadata": {},
   "source": [
    "After looking at brands which have at least 10 percent of the ads proportion on German eBay, it can be seen that Renault, Opel and Fiat are the three cheapest car brand listed and Audi, BMW, and Skoda are the three most expensive."
   ]
  },
  {
   "cell_type": "markdown",
   "metadata": {},
   "source": [
    "#### Calculating Mean for Mileage of Selected Brands"
   ]
  },
  {
   "cell_type": "code",
   "execution_count": 33,
   "metadata": {},
   "outputs": [
    {
     "data": {
      "text/plain": [
       "audi             139701.380552\n",
       "bmw              138833.183453\n",
       "mercedes_benz    138411.251981\n",
       "volkswagen       132813.245177\n",
       "opel             130500.101031\n",
       "renault          128892.709766\n",
       "peugeot          127861.794501\n",
       "ford             127004.777070\n",
       "mazda            126924.746744\n",
       "seat             124207.317073\n",
       "nissan           121578.171091\n",
       "citroen          120402.476780\n",
       "toyota           118571.428571\n",
       "fiat             117449.664430\n",
       "skoda            114349.315068\n",
       "hyundai          108741.721854\n",
       "smart             99431.818182\n",
       "dtype: float64"
      ]
     },
     "execution_count": 33,
     "metadata": {},
     "output_type": "execute_result"
    }
   ],
   "source": [
    "mean_mile=dict()\n",
    "\n",
    "for i in selection:\n",
    "    mean_mile[i]=autos.loc[autos[\"brand\"]==i,\"odometer_km\"].mean()\n",
    "\n",
    "mean_mile=pd.Series(mean_mile)\n",
    "mean_mile.sort_values(ascending=False)"
   ]
  },
  {
   "cell_type": "markdown",
   "metadata": {},
   "source": [
    "Here we are calculating the mean mileage for the selected brands, as we can see Smart, Hyndai, and Skoda are the three brands listed on eBay with the least mileage, while Audi, BMW, and Mercedes-Benz are the three listed with the most mileage."
   ]
  },
  {
   "cell_type": "markdown",
   "metadata": {},
   "source": [
    "#### Finding Correlation between Price and Mileage for the Selected Brands"
   ]
  },
  {
   "cell_type": "code",
   "execution_count": 34,
   "metadata": {},
   "outputs": [
    {
     "data": {
      "text/html": [
       "<div>\n",
       "<style scoped>\n",
       "    .dataframe tbody tr th:only-of-type {\n",
       "        vertical-align: middle;\n",
       "    }\n",
       "\n",
       "    .dataframe tbody tr th {\n",
       "        vertical-align: top;\n",
       "    }\n",
       "\n",
       "    .dataframe thead th {\n",
       "        text-align: right;\n",
       "    }\n",
       "</style>\n",
       "<table border=\"1\" class=\"dataframe\">\n",
       "  <thead>\n",
       "    <tr style=\"text-align: right;\">\n",
       "      <th></th>\n",
       "      <th>mean_price</th>\n",
       "      <th>mean_mile</th>\n",
       "    </tr>\n",
       "  </thead>\n",
       "  <tbody>\n",
       "    <tr>\n",
       "      <th>audi</th>\n",
       "      <td>5703.895858</td>\n",
       "      <td>139701.380552</td>\n",
       "    </tr>\n",
       "    <tr>\n",
       "      <th>bmw</th>\n",
       "      <td>5649.202563</td>\n",
       "      <td>138833.183453</td>\n",
       "    </tr>\n",
       "    <tr>\n",
       "      <th>citroen</th>\n",
       "      <td>3543.492260</td>\n",
       "      <td>120402.476780</td>\n",
       "    </tr>\n",
       "    <tr>\n",
       "      <th>fiat</th>\n",
       "      <td>2740.820470</td>\n",
       "      <td>117449.664430</td>\n",
       "    </tr>\n",
       "    <tr>\n",
       "      <th>ford</th>\n",
       "      <td>2944.803822</td>\n",
       "      <td>127004.777070</td>\n",
       "    </tr>\n",
       "    <tr>\n",
       "      <th>hyundai</th>\n",
       "      <td>4876.512141</td>\n",
       "      <td>108741.721854</td>\n",
       "    </tr>\n",
       "    <tr>\n",
       "      <th>mazda</th>\n",
       "      <td>3557.382055</td>\n",
       "      <td>126924.746744</td>\n",
       "    </tr>\n",
       "    <tr>\n",
       "      <th>mercedes_benz</th>\n",
       "      <td>5259.880877</td>\n",
       "      <td>138411.251981</td>\n",
       "    </tr>\n",
       "    <tr>\n",
       "      <th>nissan</th>\n",
       "      <td>3899.321534</td>\n",
       "      <td>121578.171091</td>\n",
       "    </tr>\n",
       "    <tr>\n",
       "      <th>opel</th>\n",
       "      <td>2712.995959</td>\n",
       "      <td>130500.101031</td>\n",
       "    </tr>\n",
       "    <tr>\n",
       "      <th>peugeot</th>\n",
       "      <td>2967.945007</td>\n",
       "      <td>127861.794501</td>\n",
       "    </tr>\n",
       "    <tr>\n",
       "      <th>renault</th>\n",
       "      <td>2281.461256</td>\n",
       "      <td>128892.709766</td>\n",
       "    </tr>\n",
       "    <tr>\n",
       "      <th>seat</th>\n",
       "      <td>3747.804878</td>\n",
       "      <td>124207.317073</td>\n",
       "    </tr>\n",
       "    <tr>\n",
       "      <th>skoda</th>\n",
       "      <td>5586.035616</td>\n",
       "      <td>114349.315068</td>\n",
       "    </tr>\n",
       "    <tr>\n",
       "      <th>smart</th>\n",
       "      <td>3560.118182</td>\n",
       "      <td>99431.818182</td>\n",
       "    </tr>\n",
       "    <tr>\n",
       "      <th>toyota</th>\n",
       "      <td>4594.972125</td>\n",
       "      <td>118571.428571</td>\n",
       "    </tr>\n",
       "    <tr>\n",
       "      <th>volkswagen</th>\n",
       "      <td>4183.019618</td>\n",
       "      <td>132813.245177</td>\n",
       "    </tr>\n",
       "  </tbody>\n",
       "</table>\n",
       "</div>"
      ],
      "text/plain": [
       "                mean_price      mean_mile\n",
       "audi           5703.895858  139701.380552\n",
       "bmw            5649.202563  138833.183453\n",
       "citroen        3543.492260  120402.476780\n",
       "fiat           2740.820470  117449.664430\n",
       "ford           2944.803822  127004.777070\n",
       "hyundai        4876.512141  108741.721854\n",
       "mazda          3557.382055  126924.746744\n",
       "mercedes_benz  5259.880877  138411.251981\n",
       "nissan         3899.321534  121578.171091\n",
       "opel           2712.995959  130500.101031\n",
       "peugeot        2967.945007  127861.794501\n",
       "renault        2281.461256  128892.709766\n",
       "seat           3747.804878  124207.317073\n",
       "skoda          5586.035616  114349.315068\n",
       "smart          3560.118182   99431.818182\n",
       "toyota         4594.972125  118571.428571\n",
       "volkswagen     4183.019618  132813.245177"
      ]
     },
     "execution_count": 34,
     "metadata": {},
     "output_type": "execute_result"
    }
   ],
   "source": [
    "#Combining Price and Mileage into a dataframe\n",
    "combi=pd.DataFrame(agg_mean_price,\n",
    "                   columns=[\"mean_price\"])\n",
    "combi[\"mean_mile\"]=mean_mile\n",
    "combi"
   ]
  },
  {
   "cell_type": "code",
   "execution_count": 35,
   "metadata": {},
   "outputs": [
    {
     "name": "stdout",
     "output_type": "stream",
     "text": [
      "Correlation \n",
      "             mean_price  mean_mile\n",
      "mean_price    1.000000   0.139706\n",
      "mean_mile     0.139706   1.000000\n"
     ]
    }
   ],
   "source": [
    "#Finding the correlation between the two column\n",
    "print(\"Correlation \\n\",combi.corr(method=\"spearman\"))"
   ]
  },
  {
   "cell_type": "markdown",
   "metadata": {},
   "source": [
    "Based on the correlation test conducted, we can clearly see that there is a weak correlation between \"mean_price\" and \"mean_mile\" thus their value will less likely affect one another."
   ]
  },
  {
   "cell_type": "markdown",
   "metadata": {},
   "source": [
    "#### Most Common Brand/Model Combo"
   ]
  },
  {
   "cell_type": "code",
   "execution_count": 36,
   "metadata": {},
   "outputs": [
    {
     "data": {
      "text/html": [
       "<div>\n",
       "<style scoped>\n",
       "    .dataframe tbody tr th:only-of-type {\n",
       "        vertical-align: middle;\n",
       "    }\n",
       "\n",
       "    .dataframe tbody tr th {\n",
       "        vertical-align: top;\n",
       "    }\n",
       "\n",
       "    .dataframe thead th {\n",
       "        text-align: right;\n",
       "    }\n",
       "</style>\n",
       "<table border=\"1\" class=\"dataframe\">\n",
       "  <thead>\n",
       "    <tr style=\"text-align: right;\">\n",
       "      <th></th>\n",
       "      <th>model</th>\n",
       "    </tr>\n",
       "  </thead>\n",
       "  <tbody>\n",
       "    <tr>\n",
       "      <th>alfa_romeo</th>\n",
       "      <td>Alfa_Romeo_147</td>\n",
       "    </tr>\n",
       "    <tr>\n",
       "      <th>audi</th>\n",
       "      <td>Audi_A4_Avant_2.0_TDI_DPF</td>\n",
       "    </tr>\n",
       "    <tr>\n",
       "      <th>bmw</th>\n",
       "      <td>BMW_316i</td>\n",
       "    </tr>\n",
       "    <tr>\n",
       "      <th>chevrolet</th>\n",
       "      <td>Chevrolet_Spark_1.0_LS</td>\n",
       "    </tr>\n",
       "    <tr>\n",
       "      <th>chrysler</th>\n",
       "      <td>Chrysler_Stratus_2.5_LX</td>\n",
       "    </tr>\n",
       "    <tr>\n",
       "      <th>citroen</th>\n",
       "      <td>Citroën_C1_1.0_Style</td>\n",
       "    </tr>\n",
       "    <tr>\n",
       "      <th>dacia</th>\n",
       "      <td>Dacia_Sandero_1.6_MPI_Stepway</td>\n",
       "    </tr>\n",
       "    <tr>\n",
       "      <th>daewoo</th>\n",
       "      <td>Daewoo_Matiz</td>\n",
       "    </tr>\n",
       "    <tr>\n",
       "      <th>daihatsu</th>\n",
       "      <td>Daihatsu_Cuore</td>\n",
       "    </tr>\n",
       "    <tr>\n",
       "      <th>fiat</th>\n",
       "      <td>Fiat_Punto</td>\n",
       "    </tr>\n",
       "    <tr>\n",
       "      <th>ford</th>\n",
       "      <td>Ford_Fiesta</td>\n",
       "    </tr>\n",
       "    <tr>\n",
       "      <th>honda</th>\n",
       "      <td>Honda_Civic</td>\n",
       "    </tr>\n",
       "    <tr>\n",
       "      <th>hyundai</th>\n",
       "      <td>Hyundai_i30_1.4_Classic</td>\n",
       "    </tr>\n",
       "    <tr>\n",
       "      <th>jaguar</th>\n",
       "      <td>Jaguar_S_Type_3.0_V6_Executive</td>\n",
       "    </tr>\n",
       "    <tr>\n",
       "      <th>jeep</th>\n",
       "      <td>Jeep_Grand_Cherokee_3.0_CRD_Automatik_Limited</td>\n",
       "    </tr>\n",
       "    <tr>\n",
       "      <th>kia</th>\n",
       "      <td>Kia_Picanto</td>\n",
       "    </tr>\n",
       "    <tr>\n",
       "      <th>lada</th>\n",
       "      <td>Lada_Niva</td>\n",
       "    </tr>\n",
       "    <tr>\n",
       "      <th>lancia</th>\n",
       "      <td>5TÜRER_KLIMAAUTOMATIK_ALU15ZOLL_ELFH_MULTIFUNK...</td>\n",
       "    </tr>\n",
       "    <tr>\n",
       "      <th>land_rover</th>\n",
       "      <td>Land_Rover_Freelander_1.8i</td>\n",
       "    </tr>\n",
       "    <tr>\n",
       "      <th>mazda</th>\n",
       "      <td>Mazda_MX_5_1.6i_16V</td>\n",
       "    </tr>\n",
       "    <tr>\n",
       "      <th>mercedes_benz</th>\n",
       "      <td>Mercedes_Benz_C_180_Classic</td>\n",
       "    </tr>\n",
       "    <tr>\n",
       "      <th>mini</th>\n",
       "      <td>MINI_Mini_One</td>\n",
       "    </tr>\n",
       "    <tr>\n",
       "      <th>mitsubishi</th>\n",
       "      <td>Mitsubishi_Colt</td>\n",
       "    </tr>\n",
       "    <tr>\n",
       "      <th>nissan</th>\n",
       "      <td>Nissan_Micra</td>\n",
       "    </tr>\n",
       "    <tr>\n",
       "      <th>opel</th>\n",
       "      <td>Opel_Corsa</td>\n",
       "    </tr>\n",
       "    <tr>\n",
       "      <th>peugeot</th>\n",
       "      <td>Peugeot_206</td>\n",
       "    </tr>\n",
       "    <tr>\n",
       "      <th>porsche</th>\n",
       "      <td>Porsche_Boxster</td>\n",
       "    </tr>\n",
       "    <tr>\n",
       "      <th>renault</th>\n",
       "      <td>Renault_Twingo</td>\n",
       "    </tr>\n",
       "    <tr>\n",
       "      <th>rover</th>\n",
       "      <td>Rover_25_1.4_Celeste</td>\n",
       "    </tr>\n",
       "    <tr>\n",
       "      <th>saab</th>\n",
       "      <td>Saab_Cabrio_V6</td>\n",
       "    </tr>\n",
       "    <tr>\n",
       "      <th>seat</th>\n",
       "      <td>Seat_Ibiza</td>\n",
       "    </tr>\n",
       "    <tr>\n",
       "      <th>skoda</th>\n",
       "      <td>Skoda_Fabia</td>\n",
       "    </tr>\n",
       "    <tr>\n",
       "      <th>smart</th>\n",
       "      <td>Smart_ForTwo</td>\n",
       "    </tr>\n",
       "    <tr>\n",
       "      <th>sonstige_autos</th>\n",
       "      <td>MG_MGF_1.8i</td>\n",
       "    </tr>\n",
       "    <tr>\n",
       "      <th>subaru</th>\n",
       "      <td>Subaru_Legacy_2.5_4WD_Automatik_GX</td>\n",
       "    </tr>\n",
       "    <tr>\n",
       "      <th>suzuki</th>\n",
       "      <td>Suzuki_Swift_1.6_Sport</td>\n",
       "    </tr>\n",
       "    <tr>\n",
       "      <th>toyota</th>\n",
       "      <td>Toyota_Aygo</td>\n",
       "    </tr>\n",
       "    <tr>\n",
       "      <th>trabant</th>\n",
       "      <td>Trabant_601</td>\n",
       "    </tr>\n",
       "    <tr>\n",
       "      <th>volkswagen</th>\n",
       "      <td>Volkswagen_Golf_1.4</td>\n",
       "    </tr>\n",
       "    <tr>\n",
       "      <th>volvo</th>\n",
       "      <td>Volvo_V70_2.5</td>\n",
       "    </tr>\n",
       "  </tbody>\n",
       "</table>\n",
       "</div>"
      ],
      "text/plain": [
       "                                                            model\n",
       "alfa_romeo                                         Alfa_Romeo_147\n",
       "audi                                    Audi_A4_Avant_2.0_TDI_DPF\n",
       "bmw                                                      BMW_316i\n",
       "chevrolet                                  Chevrolet_Spark_1.0_LS\n",
       "chrysler                                  Chrysler_Stratus_2.5_LX\n",
       "citroen                                      Citroën_C1_1.0_Style\n",
       "dacia                               Dacia_Sandero_1.6_MPI_Stepway\n",
       "daewoo                                               Daewoo_Matiz\n",
       "daihatsu                                           Daihatsu_Cuore\n",
       "fiat                                                   Fiat_Punto\n",
       "ford                                                  Ford_Fiesta\n",
       "honda                                                 Honda_Civic\n",
       "hyundai                                   Hyundai_i30_1.4_Classic\n",
       "jaguar                             Jaguar_S_Type_3.0_V6_Executive\n",
       "jeep                Jeep_Grand_Cherokee_3.0_CRD_Automatik_Limited\n",
       "kia                                                   Kia_Picanto\n",
       "lada                                                    Lada_Niva\n",
       "lancia          5TÜRER_KLIMAAUTOMATIK_ALU15ZOLL_ELFH_MULTIFUNK...\n",
       "land_rover                             Land_Rover_Freelander_1.8i\n",
       "mazda                                         Mazda_MX_5_1.6i_16V\n",
       "mercedes_benz                         Mercedes_Benz_C_180_Classic\n",
       "mini                                                MINI_Mini_One\n",
       "mitsubishi                                        Mitsubishi_Colt\n",
       "nissan                                               Nissan_Micra\n",
       "opel                                                   Opel_Corsa\n",
       "peugeot                                               Peugeot_206\n",
       "porsche                                           Porsche_Boxster\n",
       "renault                                            Renault_Twingo\n",
       "rover                                        Rover_25_1.4_Celeste\n",
       "saab                                               Saab_Cabrio_V6\n",
       "seat                                                   Seat_Ibiza\n",
       "skoda                                                 Skoda_Fabia\n",
       "smart                                                Smart_ForTwo\n",
       "sonstige_autos                                        MG_MGF_1.8i\n",
       "subaru                         Subaru_Legacy_2.5_4WD_Automatik_GX\n",
       "suzuki                                     Suzuki_Swift_1.6_Sport\n",
       "toyota                                                Toyota_Aygo\n",
       "trabant                                               Trabant_601\n",
       "volkswagen                                    Volkswagen_Golf_1.4\n",
       "volvo                                               Volvo_V70_2.5"
      ]
     },
     "execution_count": 36,
     "metadata": {},
     "output_type": "execute_result"
    }
   ],
   "source": [
    "tempdic=dict()\n",
    "for i in ind:\n",
    "    temp=autos.loc[autos[\"brand\"]==i,\"name\"].value_counts().head(1).index.tolist()\n",
    "    tempdic[i]=temp[0]\n",
    "\n",
    "tempdic=pd.DataFrame(pd.Series(tempdic),columns=[\"model\"])\n",
    "tempdic"
   ]
  },
  {
   "cell_type": "markdown",
   "metadata": {},
   "source": [
    "#### Are Cars with Unrepaired Damage Cheaper than Non-Damaged?"
   ]
  },
  {
   "cell_type": "code",
   "execution_count": 37,
   "metadata": {},
   "outputs": [
    {
     "data": {
      "text/html": [
       "<div>\n",
       "<style scoped>\n",
       "    .dataframe tbody tr th:only-of-type {\n",
       "        vertical-align: middle;\n",
       "    }\n",
       "\n",
       "    .dataframe tbody tr th {\n",
       "        vertical-align: top;\n",
       "    }\n",
       "\n",
       "    .dataframe thead th {\n",
       "        text-align: right;\n",
       "    }\n",
       "</style>\n",
       "<table border=\"1\" class=\"dataframe\">\n",
       "  <thead>\n",
       "    <tr style=\"text-align: right;\">\n",
       "      <th></th>\n",
       "      <th>Mean Price</th>\n",
       "    </tr>\n",
       "  </thead>\n",
       "  <tbody>\n",
       "    <tr>\n",
       "      <th>no</th>\n",
       "      <td>4851.269556</td>\n",
       "    </tr>\n",
       "    <tr>\n",
       "      <th>yes</th>\n",
       "      <td>1972.497994</td>\n",
       "    </tr>\n",
       "  </tbody>\n",
       "</table>\n",
       "</div>"
      ],
      "text/plain": [
       "      Mean Price\n",
       "no   4851.269556\n",
       "yes  1972.497994"
      ]
     },
     "execution_count": 37,
     "metadata": {},
     "output_type": "execute_result"
    }
   ],
   "source": [
    "#Getting the value count index into a list\n",
    "somelist=autos[\"unrepaired_damage\"].value_counts().index.tolist()\n",
    "#Removing not_known from the list\n",
    "somelist.remove(\"not_known\")\n",
    "\n",
    "avg_price_dmg=dict()\n",
    "\n",
    "for i in somelist:\n",
    "    avg_price_dmg[i]=autos.loc[autos[\"unrepaired_damage\"]==i,\"price\"].mean()\n",
    "\n",
    "avg_price_dmg=pd.DataFrame(pd.Series(avg_price_dmg),columns=[\"Mean Price\"])\n",
    "avg_price_dmg"
   ]
  },
  {
   "cell_type": "markdown",
   "metadata": {},
   "source": [
    "From the observation above, it can be clearly seen that cars with unrepaired damage sells much cheaper than its non-damaged counterparts."
   ]
  },
  {
   "cell_type": "markdown",
   "metadata": {},
   "source": [
    "#### Is There Any Pattern Between Mileage ang Average Price?"
   ]
  },
  {
   "cell_type": "code",
   "execution_count": 38,
   "metadata": {},
   "outputs": [
    {
     "data": {
      "text/html": [
       "<div>\n",
       "<style scoped>\n",
       "    .dataframe tbody tr th:only-of-type {\n",
       "        vertical-align: middle;\n",
       "    }\n",
       "\n",
       "    .dataframe tbody tr th {\n",
       "        vertical-align: top;\n",
       "    }\n",
       "\n",
       "    .dataframe thead th {\n",
       "        text-align: right;\n",
       "    }\n",
       "</style>\n",
       "<table border=\"1\" class=\"dataframe\">\n",
       "  <thead>\n",
       "    <tr style=\"text-align: right;\">\n",
       "      <th></th>\n",
       "      <th>Mean Price</th>\n",
       "    </tr>\n",
       "  </thead>\n",
       "  <tbody>\n",
       "    <tr>\n",
       "      <th>(4855.0, 23125.0]</th>\n",
       "      <td>4920.036885</td>\n",
       "    </tr>\n",
       "    <tr>\n",
       "      <th>(23125.0, 41250.0]</th>\n",
       "      <td>8363.175279</td>\n",
       "    </tr>\n",
       "    <tr>\n",
       "      <th>(41250.0, 59375.0]</th>\n",
       "      <td>7817.786026</td>\n",
       "    </tr>\n",
       "    <tr>\n",
       "      <th>(59375.0, 77500.0]</th>\n",
       "      <td>7148.494369</td>\n",
       "    </tr>\n",
       "    <tr>\n",
       "      <th>(77500.0, 95625.0]</th>\n",
       "      <td>6223.643989</td>\n",
       "    </tr>\n",
       "    <tr>\n",
       "      <th>(95625.0, 113750.0]</th>\n",
       "      <td>5604.914270</td>\n",
       "    </tr>\n",
       "    <tr>\n",
       "      <th>(113750.0, 131875.0]</th>\n",
       "      <td>4853.245692</td>\n",
       "    </tr>\n",
       "    <tr>\n",
       "      <th>(131875.0, 150000.0]</th>\n",
       "      <td>3298.209446</td>\n",
       "    </tr>\n",
       "  </tbody>\n",
       "</table>\n",
       "</div>"
      ],
      "text/plain": [
       "                       Mean Price\n",
       "(4855.0, 23125.0]     4920.036885\n",
       "(23125.0, 41250.0]    8363.175279\n",
       "(41250.0, 59375.0]    7817.786026\n",
       "(59375.0, 77500.0]    7148.494369\n",
       "(77500.0, 95625.0]    6223.643989\n",
       "(95625.0, 113750.0]   5604.914270\n",
       "(113750.0, 131875.0]  4853.245692\n",
       "(131875.0, 150000.0]  3298.209446"
      ]
     },
     "execution_count": 38,
     "metadata": {},
     "output_type": "execute_result"
    }
   ],
   "source": [
    "#Creating 8 equal bins for price to create range\n",
    "group=pd.cut(autos[\"odometer_km\"],bins=8)\n",
    "autos[\"odogroup\"]=group\n",
    "\n",
    "#Getting the value counts index out to a list\n",
    "ilist=autos[\"odogroup\"].value_counts().index.tolist()\n",
    "\n",
    "milepri=dict()\n",
    "for a in ilist:\n",
    "    milepri[a]=autos.loc[autos[\"odogroup\"]==a,\"price\"].mean()\n",
    "\n",
    "milepri=pd.DataFrame(pd.Series(milepri),columns=[\"Mean Price\"])\n",
    "milepri"
   ]
  },
  {
   "cell_type": "markdown",
   "metadata": {},
   "source": [
    "From the table above, it can be seen that as the the mileage has some random effect on the price. At first, there is an increase in price as the mileage increases, but after a certain kilometer, the prices gradually falls"
   ]
  },
  {
   "cell_type": "markdown",
   "metadata": {},
   "source": [
    "### Conclusion"
   ]
  },
  {
   "cell_type": "markdown",
   "metadata": {},
   "source": [
    "1. The latest data was crawled on the April 7th 2016 and the earliest was crawled on March 5th 2016. The crawler last seen all of the ads on this date interval. The ads was created between August 10th 2015 to April 7th 2016\n",
    "2. Most of the cars are registered on the year 2000, the youngest was registered in 2016 and the oldest is in 1910.\n",
    "3. Out of the 10% most car brand advertised on the site, Renault, Opel and Fiat are the cheapest, while Audi, Skoda, and BMW are the most expensive. There are little to no correlation between the mileage of the car and the price of the car\n",
    "4. Cars without unrepaired damage sells at a higher price than those with damage.\n",
    "5. Mileage has a random effect on the mileage where at first the increase in mileage increases the price, but it plateaued and the increase in mileage decreases the price of the car"
   ]
  }
 ],
 "metadata": {
  "kernelspec": {
   "display_name": "Python 3",
   "language": "python",
   "name": "python3"
  },
  "language_info": {
   "codemirror_mode": {
    "name": "ipython",
    "version": 3
   },
   "file_extension": ".py",
   "mimetype": "text/x-python",
   "name": "python",
   "nbconvert_exporter": "python",
   "pygments_lexer": "ipython3",
   "version": "3.8.3"
  }
 },
 "nbformat": 4,
 "nbformat_minor": 2
}
