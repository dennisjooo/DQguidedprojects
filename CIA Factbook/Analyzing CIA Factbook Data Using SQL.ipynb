{
 "cells": [
  {
   "cell_type": "markdown",
   "metadata": {},
   "source": [
    "# Analyzing CIA Factbook Data Using SQL\n",
    "---"
   ]
  },
  {
   "cell_type": "markdown",
   "metadata": {},
   "source": [
    "This CIA World Factbook is a collection of statistics and data about every country on Earth.  It contains demographic, geographic, ecomomic, and government related data.  \n",
    "\n",
    "In this project we will use SQL do analyze the data from the database.\n",
    "\n",
    "\n",
    "Here are the descriptions for some of the columns:\n",
    "\n",
    "- ```name``` — the name of the country.\n",
    "- ```area``` — the country's total area (both land and water) in square kilometers\n",
    "- ```area_land``` — the country's land area in square kilometers.\n",
    "- ```area_water``` — the country's waterarea in square kilometers.\n",
    "- ```population``` — the country's population.\n",
    "- ```population_growth``` — the country's population growth as a percentage.\n",
    "- ```birth_rate``` — the country's birth rate, or the number of births per year per 1,000 people.\n",
    "- ```death_rate``` — the country's death rate, or the number of death per year per 1,000 people."
   ]
  },
  {
   "cell_type": "code",
   "execution_count": 1,
   "metadata": {},
   "outputs": [],
   "source": [
    "#!conda install -yc conda-forge ipython-sql"
   ]
  },
  {
   "cell_type": "markdown",
   "metadata": {},
   "source": [
    "### Prerequisite"
   ]
  },
  {
   "cell_type": "code",
   "execution_count": 2,
   "metadata": {},
   "outputs": [
    {
     "data": {
      "text/plain": [
       "'Connected: @factbook.db'"
      ]
     },
     "execution_count": 2,
     "metadata": {},
     "output_type": "execute_result"
    }
   ],
   "source": [
    "%load_ext sql\n",
    "%sql sqlite:///factbook.db"
   ]
  },
  {
   "cell_type": "code",
   "execution_count": 3,
   "metadata": {},
   "outputs": [
    {
     "name": "stdout",
     "output_type": "stream",
     "text": [
      " * sqlite:///factbook.db\n",
      "Done.\n"
     ]
    },
    {
     "data": {
      "text/html": [
       "<table>\n",
       "    <thead>\n",
       "        <tr>\n",
       "            <th>type</th>\n",
       "            <th>name</th>\n",
       "            <th>tbl_name</th>\n",
       "            <th>rootpage</th>\n",
       "            <th>sql</th>\n",
       "        </tr>\n",
       "    </thead>\n",
       "    <tbody>\n",
       "        <tr>\n",
       "            <td>table</td>\n",
       "            <td>sqlite_sequence</td>\n",
       "            <td>sqlite_sequence</td>\n",
       "            <td>3</td>\n",
       "            <td>CREATE TABLE sqlite_sequence(name,seq)</td>\n",
       "        </tr>\n",
       "        <tr>\n",
       "            <td>table</td>\n",
       "            <td>facts</td>\n",
       "            <td>facts</td>\n",
       "            <td>47</td>\n",
       "            <td>CREATE TABLE &quot;facts&quot; (&quot;id&quot; INTEGER PRIMARY KEY AUTOINCREMENT NOT NULL, &quot;code&quot; varchar(255) NOT NULL, &quot;name&quot; varchar(255) NOT NULL, &quot;area&quot; integer, &quot;area_land&quot; integer, &quot;area_water&quot; integer, &quot;population&quot; integer, &quot;population_growth&quot; float, &quot;birth_rate&quot; float, &quot;death_rate&quot; float, &quot;migration_rate&quot; float)</td>\n",
       "        </tr>\n",
       "    </tbody>\n",
       "</table>"
      ],
      "text/plain": [
       "[('table', 'sqlite_sequence', 'sqlite_sequence', 3, 'CREATE TABLE sqlite_sequence(name,seq)'),\n",
       " ('table', 'facts', 'facts', 47, 'CREATE TABLE \"facts\" (\"id\" INTEGER PRIMARY KEY AUTOINCREMENT NOT NULL, \"code\" varchar(255) NOT NULL, \"name\" varchar(255) NOT NULL, \"area\" integer, \"a ... (4 characters truncated) ... land\" integer, \"area_water\" integer, \"population\" integer, \"population_growth\" float, \"birth_rate\" float, \"death_rate\" float, \"migration_rate\" float)')]"
      ]
     },
     "execution_count": 3,
     "metadata": {},
     "output_type": "execute_result"
    }
   ],
   "source": [
    "%%sql\n",
    "SELECT *\n",
    "  FROM sqlite_master\n",
    " WHERE type='table';"
   ]
  },
  {
   "cell_type": "markdown",
   "metadata": {},
   "source": [
    "### Analysis"
   ]
  },
  {
   "cell_type": "code",
   "execution_count": 4,
   "metadata": {},
   "outputs": [
    {
     "name": "stdout",
     "output_type": "stream",
     "text": [
      " * sqlite:///factbook.db\n",
      "Done.\n"
     ]
    },
    {
     "data": {
      "text/html": [
       "<table>\n",
       "    <thead>\n",
       "        <tr>\n",
       "            <th>id</th>\n",
       "            <th>code</th>\n",
       "            <th>name</th>\n",
       "            <th>area</th>\n",
       "            <th>area_land</th>\n",
       "            <th>area_water</th>\n",
       "            <th>population</th>\n",
       "            <th>population_growth</th>\n",
       "            <th>birth_rate</th>\n",
       "            <th>death_rate</th>\n",
       "            <th>migration_rate</th>\n",
       "        </tr>\n",
       "    </thead>\n",
       "    <tbody>\n",
       "        <tr>\n",
       "            <td>1</td>\n",
       "            <td>af</td>\n",
       "            <td>Afghanistan</td>\n",
       "            <td>652230</td>\n",
       "            <td>652230</td>\n",
       "            <td>0</td>\n",
       "            <td>32564342</td>\n",
       "            <td>2.32</td>\n",
       "            <td>38.57</td>\n",
       "            <td>13.89</td>\n",
       "            <td>1.51</td>\n",
       "        </tr>\n",
       "        <tr>\n",
       "            <td>2</td>\n",
       "            <td>al</td>\n",
       "            <td>Albania</td>\n",
       "            <td>28748</td>\n",
       "            <td>27398</td>\n",
       "            <td>1350</td>\n",
       "            <td>3029278</td>\n",
       "            <td>0.3</td>\n",
       "            <td>12.92</td>\n",
       "            <td>6.58</td>\n",
       "            <td>3.3</td>\n",
       "        </tr>\n",
       "        <tr>\n",
       "            <td>3</td>\n",
       "            <td>ag</td>\n",
       "            <td>Algeria</td>\n",
       "            <td>2381741</td>\n",
       "            <td>2381741</td>\n",
       "            <td>0</td>\n",
       "            <td>39542166</td>\n",
       "            <td>1.84</td>\n",
       "            <td>23.67</td>\n",
       "            <td>4.31</td>\n",
       "            <td>0.92</td>\n",
       "        </tr>\n",
       "        <tr>\n",
       "            <td>4</td>\n",
       "            <td>an</td>\n",
       "            <td>Andorra</td>\n",
       "            <td>468</td>\n",
       "            <td>468</td>\n",
       "            <td>0</td>\n",
       "            <td>85580</td>\n",
       "            <td>0.12</td>\n",
       "            <td>8.13</td>\n",
       "            <td>6.96</td>\n",
       "            <td>0.0</td>\n",
       "        </tr>\n",
       "        <tr>\n",
       "            <td>5</td>\n",
       "            <td>ao</td>\n",
       "            <td>Angola</td>\n",
       "            <td>1246700</td>\n",
       "            <td>1246700</td>\n",
       "            <td>0</td>\n",
       "            <td>19625353</td>\n",
       "            <td>2.78</td>\n",
       "            <td>38.78</td>\n",
       "            <td>11.49</td>\n",
       "            <td>0.46</td>\n",
       "        </tr>\n",
       "    </tbody>\n",
       "</table>"
      ],
      "text/plain": [
       "[(1, 'af', 'Afghanistan', 652230, 652230, 0, 32564342, 2.32, 38.57, 13.89, 1.51),\n",
       " (2, 'al', 'Albania', 28748, 27398, 1350, 3029278, 0.3, 12.92, 6.58, 3.3),\n",
       " (3, 'ag', 'Algeria', 2381741, 2381741, 0, 39542166, 1.84, 23.67, 4.31, 0.92),\n",
       " (4, 'an', 'Andorra', 468, 468, 0, 85580, 0.12, 8.13, 6.96, 0.0),\n",
       " (5, 'ao', 'Angola', 1246700, 1246700, 0, 19625353, 2.78, 38.78, 11.49, 0.46)]"
      ]
     },
     "execution_count": 4,
     "metadata": {},
     "output_type": "execute_result"
    }
   ],
   "source": [
    "%%sql\n",
    "SELECT * FROM facts LIMIT 5;"
   ]
  },
  {
   "cell_type": "markdown",
   "metadata": {},
   "source": [
    "#### 1. Summary Statistics"
   ]
  },
  {
   "cell_type": "code",
   "execution_count": 5,
   "metadata": {},
   "outputs": [
    {
     "name": "stdout",
     "output_type": "stream",
     "text": [
      " * sqlite:///factbook.db\n",
      "Done.\n"
     ]
    },
    {
     "data": {
      "text/html": [
       "<table>\n",
       "    <thead>\n",
       "        <tr>\n",
       "            <th>min_pop</th>\n",
       "            <th>max_pop</th>\n",
       "            <th>min_pop_growth</th>\n",
       "            <th>max_pop_growth</th>\n",
       "        </tr>\n",
       "    </thead>\n",
       "    <tbody>\n",
       "        <tr>\n",
       "            <td>0</td>\n",
       "            <td>7256490011</td>\n",
       "            <td>0.0</td>\n",
       "            <td>4.02</td>\n",
       "        </tr>\n",
       "    </tbody>\n",
       "</table>"
      ],
      "text/plain": [
       "[(0, 7256490011, 0.0, 4.02)]"
      ]
     },
     "execution_count": 5,
     "metadata": {},
     "output_type": "execute_result"
    }
   ],
   "source": [
    "%%sql\n",
    "SELECT MIN(population) AS min_pop,\n",
    "       MAX(population) AS max_pop,\n",
    "       MIN(population_growth) AS min_pop_growth,\n",
    "       MAX(population_growth) max_pop_growth \n",
    "FROM facts;"
   ]
  },
  {
   "cell_type": "markdown",
   "metadata": {},
   "source": [
    "As we can see here, there are two points that might raise concern. The first is there is a country which have 0 population and there is also a country with 7 billion population. These two points can be considered as outliers"
   ]
  },
  {
   "cell_type": "markdown",
   "metadata": {},
   "source": [
    "#### 2. Exploring Outliers"
   ]
  },
  {
   "cell_type": "code",
   "execution_count": 6,
   "metadata": {},
   "outputs": [
    {
     "name": "stdout",
     "output_type": "stream",
     "text": [
      " * sqlite:///factbook.db\n",
      "Done.\n"
     ]
    },
    {
     "data": {
      "text/html": [
       "<table>\n",
       "    <thead>\n",
       "        <tr>\n",
       "            <th>name</th>\n",
       "            <th>population</th>\n",
       "        </tr>\n",
       "    </thead>\n",
       "    <tbody>\n",
       "        <tr>\n",
       "            <td>Antarctica</td>\n",
       "            <td>0</td>\n",
       "        </tr>\n",
       "        <tr>\n",
       "            <td>World</td>\n",
       "            <td>7256490011</td>\n",
       "        </tr>\n",
       "    </tbody>\n",
       "</table>"
      ],
      "text/plain": [
       "[('Antarctica', 0), ('World', 7256490011)]"
      ]
     },
     "execution_count": 6,
     "metadata": {},
     "output_type": "execute_result"
    }
   ],
   "source": [
    "%%sql\n",
    "SELECT name, population \n",
    "    FROM facts\n",
    "    WHERE population=(SELECT MIN(population) FROM facts) OR\n",
    "    population=(SELECT MAX(population) FROM facts);"
   ]
  },
  {
   "cell_type": "markdown",
   "metadata": {},
   "source": [
    "After searching further, we found that the respective countries which we consider as outliers are Antartica and the World. Thus in further analysis, we are going to exclude them."
   ]
  },
  {
   "cell_type": "markdown",
   "metadata": {},
   "source": [
    "#### 3. Summary Statistics Without Outliers"
   ]
  },
  {
   "cell_type": "code",
   "execution_count": 7,
   "metadata": {},
   "outputs": [
    {
     "name": "stdout",
     "output_type": "stream",
     "text": [
      " * sqlite:///factbook.db\n",
      "Done.\n"
     ]
    },
    {
     "data": {
      "text/html": [
       "<table>\n",
       "    <thead>\n",
       "        <tr>\n",
       "            <th>min_pop</th>\n",
       "            <th>max_pop</th>\n",
       "            <th>min_pop_growth</th>\n",
       "            <th>max_pop_growth</th>\n",
       "        </tr>\n",
       "    </thead>\n",
       "    <tbody>\n",
       "        <tr>\n",
       "            <td>48</td>\n",
       "            <td>1367485388</td>\n",
       "            <td>0.0</td>\n",
       "            <td>4.02</td>\n",
       "        </tr>\n",
       "    </tbody>\n",
       "</table>"
      ],
      "text/plain": [
       "[(48, 1367485388, 0.0, 4.02)]"
      ]
     },
     "execution_count": 7,
     "metadata": {},
     "output_type": "execute_result"
    }
   ],
   "source": [
    "%%sql\n",
    "SELECT MIN(population) AS min_pop,\n",
    "       MAX(population) AS max_pop,\n",
    "       MIN(population_growth) AS min_pop_growth,\n",
    "       MAX(population_growth) max_pop_growth \n",
    " FROM facts\n",
    "WHERE name <> 'Antarctica'\n",
    "  AND name <> 'World';"
   ]
  },
  {
   "cell_type": "markdown",
   "metadata": {},
   "source": [
    "After excluding the two outliers, we found that the minimum population for a country at the time is 48 and the maximum is 1.3 billion. The minimum population growth is 0 and the maximum is 4.02"
   ]
  },
  {
   "cell_type": "markdown",
   "metadata": {},
   "source": [
    "#### 3. Finding Average Population and Area"
   ]
  },
  {
   "cell_type": "code",
   "execution_count": 8,
   "metadata": {},
   "outputs": [
    {
     "name": "stdout",
     "output_type": "stream",
     "text": [
      " * sqlite:///factbook.db\n",
      "Done.\n"
     ]
    },
    {
     "data": {
      "text/html": [
       "<table>\n",
       "    <thead>\n",
       "        <tr>\n",
       "            <th>Ave_pop</th>\n",
       "            <th>Ave_area</th>\n",
       "        </tr>\n",
       "    </thead>\n",
       "    <tbody>\n",
       "        <tr>\n",
       "            <td>32377011.013</td>\n",
       "            <td>555093.546</td>\n",
       "        </tr>\n",
       "    </tbody>\n",
       "</table>"
      ],
      "text/plain": [
       "[(32377011.013, 555093.546)]"
      ]
     },
     "execution_count": 8,
     "metadata": {},
     "output_type": "execute_result"
    }
   ],
   "source": [
    "%%sql\n",
    "SELECT ROUND(AVG(population),3) AS Ave_pop,\n",
    "       ROUND(AVG(area),3) AS Ave_area\n",
    "    FROM facts\n",
    "    WHERE name <> 'Antarctica'\n",
    "      AND name <> 'World';"
   ]
  },
  {
   "cell_type": "markdown",
   "metadata": {},
   "source": [
    "Based on the calculation above, we can see that the average population is around 32.3 million with the average area for a country being 555,093 squared kilometres."
   ]
  },
  {
   "cell_type": "markdown",
   "metadata": {},
   "source": [
    "#### 4. Densest Country"
   ]
  },
  {
   "cell_type": "code",
   "execution_count": 9,
   "metadata": {},
   "outputs": [
    {
     "name": "stdout",
     "output_type": "stream",
     "text": [
      " * sqlite:///factbook.db\n",
      "Done.\n"
     ]
    },
    {
     "data": {
      "text/html": [
       "<table>\n",
       "    <thead>\n",
       "        <tr>\n",
       "            <th>name</th>\n",
       "            <th>population</th>\n",
       "            <th>area</th>\n",
       "            <th>density</th>\n",
       "        </tr>\n",
       "    </thead>\n",
       "    <tbody>\n",
       "        <tr>\n",
       "            <td>Bangladesh</td>\n",
       "            <td>168957745</td>\n",
       "            <td>148460</td>\n",
       "            <td>1138.069</td>\n",
       "        </tr>\n",
       "        <tr>\n",
       "            <td>Korea, South</td>\n",
       "            <td>49115196</td>\n",
       "            <td>99720</td>\n",
       "            <td>492.531</td>\n",
       "        </tr>\n",
       "        <tr>\n",
       "            <td>Philippines</td>\n",
       "            <td>100998376</td>\n",
       "            <td>300000</td>\n",
       "            <td>336.661</td>\n",
       "        </tr>\n",
       "        <tr>\n",
       "            <td>Japan</td>\n",
       "            <td>126919659</td>\n",
       "            <td>377915</td>\n",
       "            <td>335.842</td>\n",
       "        </tr>\n",
       "        <tr>\n",
       "            <td>Vietnam</td>\n",
       "            <td>94348835</td>\n",
       "            <td>331210</td>\n",
       "            <td>284.861</td>\n",
       "        </tr>\n",
       "        <tr>\n",
       "            <td>United Kingdom</td>\n",
       "            <td>64088222</td>\n",
       "            <td>243610</td>\n",
       "            <td>263.077</td>\n",
       "        </tr>\n",
       "        <tr>\n",
       "            <td>Germany</td>\n",
       "            <td>80854408</td>\n",
       "            <td>357022</td>\n",
       "            <td>226.469</td>\n",
       "        </tr>\n",
       "        <tr>\n",
       "            <td>Italy</td>\n",
       "            <td>61855120</td>\n",
       "            <td>301340</td>\n",
       "            <td>205.267</td>\n",
       "        </tr>\n",
       "        <tr>\n",
       "            <td>Uganda</td>\n",
       "            <td>37101745</td>\n",
       "            <td>241038</td>\n",
       "            <td>153.925</td>\n",
       "        </tr>\n",
       "        <tr>\n",
       "            <td>Thailand</td>\n",
       "            <td>67976405</td>\n",
       "            <td>513120</td>\n",
       "            <td>132.477</td>\n",
       "        </tr>\n",
       "        <tr>\n",
       "            <td>Poland</td>\n",
       "            <td>38562189</td>\n",
       "            <td>312685</td>\n",
       "            <td>123.326</td>\n",
       "        </tr>\n",
       "        <tr>\n",
       "            <td>Spain</td>\n",
       "            <td>48146134</td>\n",
       "            <td>505370</td>\n",
       "            <td>95.269</td>\n",
       "        </tr>\n",
       "        <tr>\n",
       "            <td>Iraq</td>\n",
       "            <td>37056169</td>\n",
       "            <td>438317</td>\n",
       "            <td>84.542</td>\n",
       "        </tr>\n",
       "        <tr>\n",
       "            <td>Morocco</td>\n",
       "            <td>33322699</td>\n",
       "            <td>446550</td>\n",
       "            <td>74.623</td>\n",
       "        </tr>\n",
       "    </tbody>\n",
       "</table>"
      ],
      "text/plain": [
       "[('Bangladesh', 168957745, 148460, 1138.069),\n",
       " ('Korea, South', 49115196, 99720, 492.531),\n",
       " ('Philippines', 100998376, 300000, 336.661),\n",
       " ('Japan', 126919659, 377915, 335.842),\n",
       " ('Vietnam', 94348835, 331210, 284.861),\n",
       " ('United Kingdom', 64088222, 243610, 263.077),\n",
       " ('Germany', 80854408, 357022, 226.469),\n",
       " ('Italy', 61855120, 301340, 205.267),\n",
       " ('Uganda', 37101745, 241038, 153.925),\n",
       " ('Thailand', 67976405, 513120, 132.477),\n",
       " ('Poland', 38562189, 312685, 123.326),\n",
       " ('Spain', 48146134, 505370, 95.269),\n",
       " ('Iraq', 37056169, 438317, 84.542),\n",
       " ('Morocco', 33322699, 446550, 74.623)]"
      ]
     },
     "execution_count": 9,
     "metadata": {},
     "output_type": "execute_result"
    }
   ],
   "source": [
    "%%sql\n",
    "SELECT name,population,area,\n",
    "    ROUND(CAST(population AS Float)/CAST(area AS FLoat),3) as 'density'\n",
    "    FROM facts\n",
    "    WHERE population>(SELECT AVG(population) FROM facts \n",
    "                      WHERE name <> 'Antarctica'\n",
    "                        AND name <> 'World')\n",
    "      AND area<(SELECT AVG(area) FROM facts \n",
    "                      WHERE name <> 'Antarctica'\n",
    "                        AND name <> 'World')\n",
    "    AND (name <> 'Antarctica' OR name <> 'World')\n",
    "    ORDER BY density DESC;"
   ]
  },
  {
   "cell_type": "markdown",
   "metadata": {},
   "source": [
    "Here we are trying to find countries which have below average area and above average population. The countries above are those who meets our criteria."
   ]
  },
  {
   "cell_type": "code",
   "execution_count": 10,
   "metadata": {},
   "outputs": [
    {
     "name": "stdout",
     "output_type": "stream",
     "text": [
      " * sqlite:///factbook.db\n",
      "Done.\n"
     ]
    },
    {
     "data": {
      "text/html": [
       "<table>\n",
       "    <thead>\n",
       "        <tr>\n",
       "            <th>name</th>\n",
       "            <th>population</th>\n",
       "            <th>area</th>\n",
       "            <th>density</th>\n",
       "        </tr>\n",
       "    </thead>\n",
       "    <tbody>\n",
       "        <tr>\n",
       "            <td>Macau</td>\n",
       "            <td>592731</td>\n",
       "            <td>28</td>\n",
       "            <td>21168.964</td>\n",
       "        </tr>\n",
       "        <tr>\n",
       "            <td>Monaco</td>\n",
       "            <td>30535</td>\n",
       "            <td>2</td>\n",
       "            <td>15267.5</td>\n",
       "        </tr>\n",
       "        <tr>\n",
       "            <td>Singapore</td>\n",
       "            <td>5674472</td>\n",
       "            <td>697</td>\n",
       "            <td>8141.28</td>\n",
       "        </tr>\n",
       "        <tr>\n",
       "            <td>Hong Kong</td>\n",
       "            <td>7141106</td>\n",
       "            <td>1108</td>\n",
       "            <td>6445.042</td>\n",
       "        </tr>\n",
       "        <tr>\n",
       "            <td>Gaza Strip</td>\n",
       "            <td>1869055</td>\n",
       "            <td>360</td>\n",
       "            <td>5191.819</td>\n",
       "        </tr>\n",
       "        <tr>\n",
       "            <td>Gibraltar</td>\n",
       "            <td>29258</td>\n",
       "            <td>6</td>\n",
       "            <td>4876.333</td>\n",
       "        </tr>\n",
       "        <tr>\n",
       "            <td>Bahrain</td>\n",
       "            <td>1346613</td>\n",
       "            <td>760</td>\n",
       "            <td>1771.859</td>\n",
       "        </tr>\n",
       "        <tr>\n",
       "            <td>Maldives</td>\n",
       "            <td>393253</td>\n",
       "            <td>298</td>\n",
       "            <td>1319.641</td>\n",
       "        </tr>\n",
       "        <tr>\n",
       "            <td>Malta</td>\n",
       "            <td>413965</td>\n",
       "            <td>316</td>\n",
       "            <td>1310.016</td>\n",
       "        </tr>\n",
       "        <tr>\n",
       "            <td>Bermuda</td>\n",
       "            <td>70196</td>\n",
       "            <td>54</td>\n",
       "            <td>1299.926</td>\n",
       "        </tr>\n",
       "    </tbody>\n",
       "</table>"
      ],
      "text/plain": [
       "[('Macau', 592731, 28, 21168.964),\n",
       " ('Monaco', 30535, 2, 15267.5),\n",
       " ('Singapore', 5674472, 697, 8141.28),\n",
       " ('Hong Kong', 7141106, 1108, 6445.042),\n",
       " ('Gaza Strip', 1869055, 360, 5191.819),\n",
       " ('Gibraltar', 29258, 6, 4876.333),\n",
       " ('Bahrain', 1346613, 760, 1771.859),\n",
       " ('Maldives', 393253, 298, 1319.641),\n",
       " ('Malta', 413965, 316, 1310.016),\n",
       " ('Bermuda', 70196, 54, 1299.926)]"
      ]
     },
     "execution_count": 10,
     "metadata": {},
     "output_type": "execute_result"
    }
   ],
   "source": [
    "%%sql\n",
    "SELECT name,population,area,\n",
    "    ROUND(CAST(population AS Float)/CAST(area AS FLoat),3) as 'density'\n",
    "    FROM facts\n",
    "    WHERE name <> 'Antarctica' AND name <> 'World'\n",
    "    ORDER BY density DESC\n",
    "    LIMIT 10;"
   ]
  },
  {
   "cell_type": "markdown",
   "metadata": {},
   "source": [
    "That being said, if we only account on the density of the country without setting a criteria where the population needs to be greater than average and the area needs to be lower than average, we can see that Macau is actually the densest country in the world with 21,169 people/sq.kilometre followed by Monaco in second with 15,268 people/sq.kilometre"
   ]
  },
  {
   "cell_type": "markdown",
   "metadata": {},
   "source": [
    "#### 5. Most Populated Country and Fastest Growing Country"
   ]
  },
  {
   "cell_type": "code",
   "execution_count": 11,
   "metadata": {},
   "outputs": [
    {
     "name": "stdout",
     "output_type": "stream",
     "text": [
      " * sqlite:///factbook.db\n",
      "Done.\n"
     ]
    },
    {
     "data": {
      "text/html": [
       "<table>\n",
       "    <thead>\n",
       "        <tr>\n",
       "            <th>name</th>\n",
       "            <th>population</th>\n",
       "        </tr>\n",
       "    </thead>\n",
       "    <tbody>\n",
       "        <tr>\n",
       "            <td>China</td>\n",
       "            <td>1367485388</td>\n",
       "        </tr>\n",
       "    </tbody>\n",
       "</table>"
      ],
      "text/plain": [
       "[('China', 1367485388)]"
      ]
     },
     "execution_count": 11,
     "metadata": {},
     "output_type": "execute_result"
    }
   ],
   "source": [
    "%%sql\n",
    "SELECT name,population\n",
    "    FROM facts\n",
    "    WHERE population=(SELECT max(population) FROM facts \n",
    "                      WHERE name <> 'Antarctica'\n",
    "                        AND name <> 'World')\n",
    "    AND (name <> 'Antarctica' OR name <> 'World');"
   ]
  },
  {
   "cell_type": "markdown",
   "metadata": {},
   "source": [
    "It is no surprise that China is the most populated country on earth with over 1.3 billion inhabitants. What about the fastest growing country?"
   ]
  },
  {
   "cell_type": "code",
   "execution_count": 12,
   "metadata": {},
   "outputs": [
    {
     "name": "stdout",
     "output_type": "stream",
     "text": [
      " * sqlite:///factbook.db\n",
      "Done.\n"
     ]
    },
    {
     "data": {
      "text/html": [
       "<table>\n",
       "    <thead>\n",
       "        <tr>\n",
       "            <th>name</th>\n",
       "            <th>population_growth</th>\n",
       "        </tr>\n",
       "    </thead>\n",
       "    <tbody>\n",
       "        <tr>\n",
       "            <td>South Sudan</td>\n",
       "            <td>4.02</td>\n",
       "        </tr>\n",
       "    </tbody>\n",
       "</table>"
      ],
      "text/plain": [
       "[('South Sudan', 4.02)]"
      ]
     },
     "execution_count": 12,
     "metadata": {},
     "output_type": "execute_result"
    }
   ],
   "source": [
    "%%sql\n",
    "SELECT name,population_growth\n",
    "    FROM facts\n",
    "    WHERE population_growth=(SELECT max(population_growth) FROM facts \n",
    "                      WHERE name <> 'Antarctica'\n",
    "                        AND name <> 'World')\n",
    "    AND (name <> 'Antarctica' OR name <> 'World');"
   ]
  },
  {
   "cell_type": "markdown",
   "metadata": {},
   "source": [
    "South Sudan is the fastest growing country at the time the data was gathered with 4.02 percent"
   ]
  },
  {
   "cell_type": "markdown",
   "metadata": {},
   "source": [
    "#### 6. Water-Land Ratio"
   ]
  },
  {
   "cell_type": "code",
   "execution_count": 13,
   "metadata": {},
   "outputs": [
    {
     "name": "stdout",
     "output_type": "stream",
     "text": [
      " * sqlite:///factbook.db\n",
      "Done.\n"
     ]
    },
    {
     "data": {
      "text/html": [
       "<table>\n",
       "    <thead>\n",
       "        <tr>\n",
       "            <th>name</th>\n",
       "            <th>area_water</th>\n",
       "            <th>area_land</th>\n",
       "            <th>WL_ratio</th>\n",
       "        </tr>\n",
       "    </thead>\n",
       "    <tbody>\n",
       "        <tr>\n",
       "            <td>British Indian Ocean Territory</td>\n",
       "            <td>54340</td>\n",
       "            <td>60</td>\n",
       "            <td>905.67</td>\n",
       "        </tr>\n",
       "        <tr>\n",
       "            <td>Virgin Islands</td>\n",
       "            <td>1564</td>\n",
       "            <td>346</td>\n",
       "            <td>4.52</td>\n",
       "        </tr>\n",
       "        <tr>\n",
       "            <td>Puerto Rico</td>\n",
       "            <td>4921</td>\n",
       "            <td>8870</td>\n",
       "            <td>0.55</td>\n",
       "        </tr>\n",
       "        <tr>\n",
       "            <td>Bahamas, The</td>\n",
       "            <td>3870</td>\n",
       "            <td>10010</td>\n",
       "            <td>0.39</td>\n",
       "        </tr>\n",
       "        <tr>\n",
       "            <td>Guinea-Bissau</td>\n",
       "            <td>8005</td>\n",
       "            <td>28120</td>\n",
       "            <td>0.28</td>\n",
       "        </tr>\n",
       "        <tr>\n",
       "            <td>Malawi</td>\n",
       "            <td>24404</td>\n",
       "            <td>94080</td>\n",
       "            <td>0.26</td>\n",
       "        </tr>\n",
       "        <tr>\n",
       "            <td>Netherlands</td>\n",
       "            <td>7650</td>\n",
       "            <td>33893</td>\n",
       "            <td>0.23</td>\n",
       "        </tr>\n",
       "        <tr>\n",
       "            <td>Uganda</td>\n",
       "            <td>43938</td>\n",
       "            <td>197100</td>\n",
       "            <td>0.22</td>\n",
       "        </tr>\n",
       "        <tr>\n",
       "            <td>Eritrea</td>\n",
       "            <td>16600</td>\n",
       "            <td>101000</td>\n",
       "            <td>0.16</td>\n",
       "        </tr>\n",
       "        <tr>\n",
       "            <td>Liberia</td>\n",
       "            <td>15049</td>\n",
       "            <td>96320</td>\n",
       "            <td>0.16</td>\n",
       "        </tr>\n",
       "    </tbody>\n",
       "</table>"
      ],
      "text/plain": [
       "[('British Indian Ocean Territory', 54340, 60, 905.67),\n",
       " ('Virgin Islands', 1564, 346, 4.52),\n",
       " ('Puerto Rico', 4921, 8870, 0.55),\n",
       " ('Bahamas, The', 3870, 10010, 0.39),\n",
       " ('Guinea-Bissau', 8005, 28120, 0.28),\n",
       " ('Malawi', 24404, 94080, 0.26),\n",
       " ('Netherlands', 7650, 33893, 0.23),\n",
       " ('Uganda', 43938, 197100, 0.22),\n",
       " ('Eritrea', 16600, 101000, 0.16),\n",
       " ('Liberia', 15049, 96320, 0.16)]"
      ]
     },
     "execution_count": 13,
     "metadata": {},
     "output_type": "execute_result"
    }
   ],
   "source": [
    "%%sql\n",
    "SELECT name, area_water,area_land,\n",
    "    ROUND(CAST(area_water as float)/CAST(area_land as float),2) AS 'WL_ratio'\n",
    "    FROM facts\n",
    "    WHERE name <> 'Antarctica' OR name <> 'World'\n",
    "    ORDER BY WL_ratio DESC\n",
    "    LIMIT 10\n",
    "    ;"
   ]
  },
  {
   "cell_type": "markdown",
   "metadata": {},
   "source": [
    "After conducting some analysis, we can clearly see that the British Indian Ocean Territory has the biggest Water to Land ratio by far with 905 to 1. Second is the Virgin Islands with 4 to 1. Now we are going to find countries which have more water than land"
   ]
  },
  {
   "cell_type": "code",
   "execution_count": 14,
   "metadata": {},
   "outputs": [
    {
     "name": "stdout",
     "output_type": "stream",
     "text": [
      " * sqlite:///factbook.db\n",
      "Done.\n"
     ]
    },
    {
     "data": {
      "text/html": [
       "<table>\n",
       "    <thead>\n",
       "        <tr>\n",
       "            <th>name</th>\n",
       "            <th>area_water</th>\n",
       "            <th>area_land</th>\n",
       "        </tr>\n",
       "    </thead>\n",
       "    <tbody>\n",
       "        <tr>\n",
       "            <td>British Indian Ocean Territory</td>\n",
       "            <td>54340</td>\n",
       "            <td>60</td>\n",
       "        </tr>\n",
       "        <tr>\n",
       "            <td>Virgin Islands</td>\n",
       "            <td>1564</td>\n",
       "            <td>346</td>\n",
       "        </tr>\n",
       "    </tbody>\n",
       "</table>"
      ],
      "text/plain": [
       "[('British Indian Ocean Territory', 54340, 60), ('Virgin Islands', 1564, 346)]"
      ]
     },
     "execution_count": 14,
     "metadata": {},
     "output_type": "execute_result"
    }
   ],
   "source": [
    "%%sql\n",
    "SELECT name, area_water,area_land\n",
    "    FROM facts\n",
    "    WHERE (name <> 'Antarctica' OR name <> 'World')\n",
    "    AND area_water>area_land\n",
    "    ORDER BY area_water DESC\n",
    "    LIMIT 10\n",
    "    ;"
   ]
  },
  {
   "cell_type": "markdown",
   "metadata": {},
   "source": [
    "Those two countries mentioned above are the only two countries which have more Water Area than Land Mass"
   ]
  },
  {
   "cell_type": "markdown",
   "metadata": {},
   "source": [
    "#### 7. Which countries will add the most people to their populations next year?"
   ]
  },
  {
   "cell_type": "code",
   "execution_count": 15,
   "metadata": {},
   "outputs": [
    {
     "name": "stdout",
     "output_type": "stream",
     "text": [
      " * sqlite:///factbook.db\n",
      "Done.\n"
     ]
    },
    {
     "data": {
      "text/html": [
       "<table>\n",
       "    <thead>\n",
       "        <tr>\n",
       "            <th>name</th>\n",
       "            <th>population</th>\n",
       "            <th>population_growth</th>\n",
       "            <th>population_increase</th>\n",
       "        </tr>\n",
       "    </thead>\n",
       "    <tbody>\n",
       "        <tr>\n",
       "            <td>India</td>\n",
       "            <td>1251695584</td>\n",
       "            <td>1.22</td>\n",
       "            <td>15270686</td>\n",
       "        </tr>\n",
       "        <tr>\n",
       "            <td>China</td>\n",
       "            <td>1367485388</td>\n",
       "            <td>0.45</td>\n",
       "            <td>6153684</td>\n",
       "        </tr>\n",
       "        <tr>\n",
       "            <td>Nigeria</td>\n",
       "            <td>181562056</td>\n",
       "            <td>2.45</td>\n",
       "            <td>4448270</td>\n",
       "        </tr>\n",
       "        <tr>\n",
       "            <td>Pakistan</td>\n",
       "            <td>199085847</td>\n",
       "            <td>1.46</td>\n",
       "            <td>2906653</td>\n",
       "        </tr>\n",
       "        <tr>\n",
       "            <td>Ethiopia</td>\n",
       "            <td>99465819</td>\n",
       "            <td>2.89</td>\n",
       "            <td>2874562</td>\n",
       "        </tr>\n",
       "        <tr>\n",
       "            <td>Bangladesh</td>\n",
       "            <td>168957745</td>\n",
       "            <td>1.6</td>\n",
       "            <td>2703323</td>\n",
       "        </tr>\n",
       "        <tr>\n",
       "            <td>United States</td>\n",
       "            <td>321368864</td>\n",
       "            <td>0.78</td>\n",
       "            <td>2506677</td>\n",
       "        </tr>\n",
       "        <tr>\n",
       "            <td>Indonesia</td>\n",
       "            <td>255993674</td>\n",
       "            <td>0.92</td>\n",
       "            <td>2355141</td>\n",
       "        </tr>\n",
       "        <tr>\n",
       "            <td>Congo, Democratic Republic of the</td>\n",
       "            <td>79375136</td>\n",
       "            <td>2.45</td>\n",
       "            <td>1944690</td>\n",
       "        </tr>\n",
       "        <tr>\n",
       "            <td>Philippines</td>\n",
       "            <td>100998376</td>\n",
       "            <td>1.61</td>\n",
       "            <td>1626073</td>\n",
       "        </tr>\n",
       "    </tbody>\n",
       "</table>"
      ],
      "text/plain": [
       "[('India', 1251695584, 1.22, 15270686),\n",
       " ('China', 1367485388, 0.45, 6153684),\n",
       " ('Nigeria', 181562056, 2.45, 4448270),\n",
       " ('Pakistan', 199085847, 1.46, 2906653),\n",
       " ('Ethiopia', 99465819, 2.89, 2874562),\n",
       " ('Bangladesh', 168957745, 1.6, 2703323),\n",
       " ('United States', 321368864, 0.78, 2506677),\n",
       " ('Indonesia', 255993674, 0.92, 2355141),\n",
       " ('Congo, Democratic Republic of the', 79375136, 2.45, 1944690),\n",
       " ('Philippines', 100998376, 1.61, 1626073)]"
      ]
     },
     "execution_count": 15,
     "metadata": {},
     "output_type": "execute_result"
    }
   ],
   "source": [
    "%%sql\n",
    "SELECT name,population,population_growth,\n",
    "    CAST(population_growth/100*population as int) AS \"population_increase\"\n",
    "    FROM facts\n",
    "    WHERE name <> 'Antarctica' AND name <> 'World'\n",
    "    ORDER BY population_increase DESC\n",
    "    LIMIT 10;"
   ]
  },
  {
   "cell_type": "markdown",
   "metadata": {},
   "source": [
    "Based on the simple calculation where we multiply the percentage population growth with each country's current population, we can see that next year, India will have the greatest population increase with 15 million people followed by China in second with 6 million."
   ]
  },
  {
   "cell_type": "markdown",
   "metadata": {},
   "source": [
    "#### 8. Countries With Higher Mortality Rate than Birth Rate"
   ]
  },
  {
   "cell_type": "code",
   "execution_count": 16,
   "metadata": {},
   "outputs": [
    {
     "name": "stdout",
     "output_type": "stream",
     "text": [
      " * sqlite:///factbook.db\n",
      "Done.\n"
     ]
    },
    {
     "data": {
      "text/html": [
       "<table>\n",
       "    <thead>\n",
       "        <tr>\n",
       "            <th>name</th>\n",
       "            <th>birth_rate</th>\n",
       "            <th>death_rate</th>\n",
       "            <th>net_difference</th>\n",
       "        </tr>\n",
       "    </thead>\n",
       "    <tbody>\n",
       "        <tr>\n",
       "            <td>Bulgaria</td>\n",
       "            <td>8.92</td>\n",
       "            <td>14.44</td>\n",
       "            <td>5.52</td>\n",
       "        </tr>\n",
       "        <tr>\n",
       "            <td>Serbia</td>\n",
       "            <td>9.08</td>\n",
       "            <td>13.66</td>\n",
       "            <td>4.58</td>\n",
       "        </tr>\n",
       "        <tr>\n",
       "            <td>Latvia</td>\n",
       "            <td>10.0</td>\n",
       "            <td>14.31</td>\n",
       "            <td>4.31</td>\n",
       "        </tr>\n",
       "        <tr>\n",
       "            <td>Lithuania</td>\n",
       "            <td>10.1</td>\n",
       "            <td>14.27</td>\n",
       "            <td>4.17</td>\n",
       "        </tr>\n",
       "        <tr>\n",
       "            <td>Ukraine</td>\n",
       "            <td>10.72</td>\n",
       "            <td>14.46</td>\n",
       "            <td>3.74</td>\n",
       "        </tr>\n",
       "        <tr>\n",
       "            <td>Hungary</td>\n",
       "            <td>9.16</td>\n",
       "            <td>12.73</td>\n",
       "            <td>3.57</td>\n",
       "        </tr>\n",
       "        <tr>\n",
       "            <td>Germany</td>\n",
       "            <td>8.47</td>\n",
       "            <td>11.42</td>\n",
       "            <td>2.95</td>\n",
       "        </tr>\n",
       "        <tr>\n",
       "            <td>Slovenia</td>\n",
       "            <td>8.42</td>\n",
       "            <td>11.37</td>\n",
       "            <td>2.95</td>\n",
       "        </tr>\n",
       "        <tr>\n",
       "            <td>Romania</td>\n",
       "            <td>9.14</td>\n",
       "            <td>11.9</td>\n",
       "            <td>2.76</td>\n",
       "        </tr>\n",
       "        <tr>\n",
       "            <td>Croatia</td>\n",
       "            <td>9.45</td>\n",
       "            <td>12.18</td>\n",
       "            <td>2.73</td>\n",
       "        </tr>\n",
       "    </tbody>\n",
       "</table>"
      ],
      "text/plain": [
       "[('Bulgaria', 8.92, 14.44, 5.52),\n",
       " ('Serbia', 9.08, 13.66, 4.58),\n",
       " ('Latvia', 10.0, 14.31, 4.31),\n",
       " ('Lithuania', 10.1, 14.27, 4.17),\n",
       " ('Ukraine', 10.72, 14.46, 3.74),\n",
       " ('Hungary', 9.16, 12.73, 3.57),\n",
       " ('Germany', 8.47, 11.42, 2.95),\n",
       " ('Slovenia', 8.42, 11.37, 2.95),\n",
       " ('Romania', 9.14, 11.9, 2.76),\n",
       " ('Croatia', 9.45, 12.18, 2.73)]"
      ]
     },
     "execution_count": 16,
     "metadata": {},
     "output_type": "execute_result"
    }
   ],
   "source": [
    "%%sql\n",
    "SELECT name,birth_rate,death_rate,\n",
    "    ROUND(death_rate-birth_rate,2) as \"net_difference\"\n",
    "    FROM facts\n",
    "    WHERE (name <> 'Antarctica' AND name <> 'World')\n",
    "    AND death_rate>birth_rate\n",
    "    ORDER BY net_difference DESC\n",
    "    LIMIT 10;"
   ]
  },
  {
   "cell_type": "markdown",
   "metadata": {},
   "source": [
    "As we can see from the table above, Bulgaria have the greatest difference between mortality rate and birth_rate. Serbia is in second followed by Latvia in third. It seems like countries in the Balkan region suffers from higher mortality rate compared to birth rate."
   ]
  },
  {
   "cell_type": "markdown",
   "metadata": {},
   "source": [
    "### Conclusion"
   ]
  },
  {
   "cell_type": "markdown",
   "metadata": {},
   "source": [
    "After conducting this project, there are a few things that we can conclude. Those are:\n",
    "1. China is the most populated country with over 1.3 billion people\n",
    "2. South Sudan is the fastest growing country with 4.02% per year\n",
    "3. The average population is around 32.3 million with the average area for a country being 555,093 squared kilometres.\n",
    "4. Macau is the most densely populated country\n",
    "5. The British Indian Ocean Territory is the country with the largest water to land ratio (905.67:1)\n",
    "6. India will have the greatest population increase\n",
    "7. Bulgaria has the largest difference between mortality rate and birth rate"
   ]
  }
 ],
 "metadata": {
  "kernelspec": {
   "display_name": "Python 3",
   "language": "python",
   "name": "python3"
  },
  "language_info": {
   "codemirror_mode": {
    "name": "ipython",
    "version": 3
   },
   "file_extension": ".py",
   "mimetype": "text/x-python",
   "name": "python",
   "nbconvert_exporter": "python",
   "pygments_lexer": "ipython3",
   "version": "3.8.3"
  }
 },
 "nbformat": 4,
 "nbformat_minor": 2
}
