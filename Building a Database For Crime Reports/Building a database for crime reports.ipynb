{
 "cells": [
  {
   "cell_type": "markdown",
   "metadata": {},
   "source": [
    "# Building a database for crime reports\n",
    "---\n",
    "In this guided project, we will put everything together to build a database for storing data related with crimes that occurred in Boston. This dataset is available in the file `boston.csv`.\n",
    "\n",
    "The goal of this guided project is for to create a database named `crimes_db` with a table – `boston_crimes` – with appropriate datatypes for storing the data from the `boston.csv` file. You will be creating the table inside a schema named `crimes`. You will also create the `readonly` and `readwrite` groups with the appropriate privileges as we have discussed in this course. Finally, you will also need to create one user for each of these groups.\n",
    "\n",
    "The following diagram illustrates a high level overview of what we want to achieve:\n",
    "\n",
    "![achieve](https://dq-content.s3.amazonaws.com/250/goal.png)"
   ]
  },
  {
   "cell_type": "markdown",
   "metadata": {},
   "source": [
    "## Creating the Crime Database\n",
    "We will now create our database which will be called as `crime_db` as well as a schema called `crimes`.\n",
    "\n",
    "First and foremost, let's connect to dataquest's PostgreSQL database since our database does not exist yet."
   ]
  },
  {
   "cell_type": "code",
   "execution_count": 1,
   "metadata": {
    "collapsed": true
   },
   "outputs": [],
   "source": [
    "# Importing the library to connect to PostgreSQL\n",
    "import psycopg2\n",
    "\n",
    "try:\n",
    "    # Creating a connection to the server\n",
    "    conn = psycopg2.connect('dbname = dq user = dq')\n",
    "    conn.autocommit = True\n",
    "    cur = conn.cursor()\n",
    "\n",
    "    # Creating the database\n",
    "    cur.execute('''\n",
    "    CREATE DATABASE crime_db;\n",
    "    ''')\n",
    "\n",
    "    # Closing the connection\n",
    "    conn.close()\n",
    "except: pass"
   ]
  },
  {
   "cell_type": "markdown",
   "metadata": {},
   "source": [
    "Since we have now created the database, we can connect to it and create our schema called `crimes`."
   ]
  },
  {
   "cell_type": "code",
   "execution_count": 2,
   "metadata": {
    "collapsed": false
   },
   "outputs": [],
   "source": [
    "try:\n",
    "    # Creating a connection to the server\n",
    "    conn = psycopg2.connect('dbname = crime_db user = dq')\n",
    "    conn.autocommit = True\n",
    "    cur = conn.cursor()\n",
    "\n",
    "    # Creating the database\n",
    "    cur.execute('''\n",
    "    CREATE SCHEMA crimes;\n",
    "    ''')\n",
    "except: pass"
   ]
  },
  {
   "cell_type": "markdown",
   "metadata": {},
   "source": [
    "## Obtaining the Column Names and Sample\n",
    "We have successfully created our database and schema, now we will start filling it by first importing our data set into. \n",
    "\n",
    "Before we do that, let's gather some data about our crime dataset so that we can more easily select the right datatypes to use in our table."
   ]
  },
  {
   "cell_type": "code",
   "execution_count": null,
   "metadata": {
    "collapsed": true
   },
   "outputs": [],
   "source": [
    "# Importing the library to read CSV\n",
    "import csv\n",
    "\n",
    "# Reading the file in\n",
    "with open('boston.csv') as f:\n",
    "    reader = csv.reader(f)\n",
    "    col_headers = next(reader)\n",
    "    first_row = next(reader)"
   ]
  },
  {
   "cell_type": "markdown",
   "metadata": {},
   "source": [
    "Before we create a table for storing the crime data, we need to identify the proper datatypes for the columns. To help us with that, let's create a function — `get_col_set()` — that given the name of a CSV file and a column index (starting at 0) that computes a Python set with all distinct values contained in that column."
   ]
  },
  {
   "cell_type": "code",
   "execution_count": null,
   "metadata": {
    "collapsed": false
   },
   "outputs": [
    {
     "name": "stdout",
     "output_type": "stream",
     "text": [
      "incident_number\t298329\n",
      "offense_code\t219\n",
      "description\t239\n",
      "date\t1177\n",
      "day_of_the_week\t7\n"
     ]
    }
   ],
   "source": [
    "# Defining a function to find unique values\n",
    "def get_col_set(csv_filename, col_index):\n",
    "    values = set()\n",
    "    with open(csv_filename) as f:\n",
    "        next(f)\n",
    "        reader = csv.reader(f)\n",
    "        for row in reader:\n",
    "            values.add(row[col_index])\n",
    "    return values\n",
    "\n",
    "# Testing the function\n",
    "for i in range(len(col_headers)):\n",
    "    values = get_col_set(\"boston.csv\", i)\n",
    "    print(col_headers[i], len(values), sep='\\t')"
   ]
  },
  {
   "cell_type": "markdown",
   "metadata": {},
   "source": [
    "We will now use the function above to analyze the `description` column. That particular column is located in the second index. We will try and find the maximum length of that column in order to determine the `VARCHAR()` of the column in our database."
   ]
  },
  {
   "cell_type": "code",
   "execution_count": null,
   "metadata": {
    "collapsed": false
   },
   "outputs": [],
   "source": [
    "# Using the function for description\n",
    "desc_uni = get_col_set('boston.csv', 2)\n",
    "\n",
    "# Finding the maximum length of the entries\n",
    "max_length = 0\n",
    "for uni in desc_uni:\n",
    "    max_length = max(max_length, len(uni))\n",
    "    \n",
    "# Printing the result\n",
    "max_length"
   ]
  },
  {
   "cell_type": "markdown",
   "metadata": {},
   "source": [
    "We will now create a table called `boston_crimes` inside the `crimes` schema of the `crime_db` database. Before doing anything, let's actually see the header and the first row to determine the data type we will need."
   ]
  },
  {
   "cell_type": "code",
   "execution_count": null,
   "metadata": {
    "collapsed": false
   },
   "outputs": [],
   "source": [
    "# Printing the header\n",
    "print(col_headers, '\\n')\n",
    "\n",
    "# Printing the first row\n",
    "print(first_row)"
   ]
  },
  {
   "cell_type": "markdown",
   "metadata": {},
   "source": [
    "The results indicates that:\n",
    "1. `incident_number` and `offense_code` can be transformed into an integer\n",
    "2. `description` is a string, but we knew that the maximum length is 58. To be save, we will use `VARCHAR(100)`.\n",
    "3. `date` can be changed into the date data type\n",
    "4. `day_of_the_week` is categorical, thus we can use enumerate to replace the values.\n",
    "5. `lat` and`long` are floating points"
   ]
  },
  {
   "cell_type": "code",
   "execution_count": null,
   "metadata": {
    "collapsed": false
   },
   "outputs": [],
   "source": [
    "try:\n",
    "    # Creating enumerated data type\n",
    "    cur.execute('''\n",
    "    CREATE TYPE weekday AS ENUM ('Monday', 'Tuesday', 'Wednesday', \n",
    "    'Thursday', 'Friday', 'Saturday', 'Sunday');\n",
    "    ''')\n",
    "\n",
    "    # Creating the table\n",
    "    cur.execute('''\n",
    "    CREATE TABLE crimes.boston_crimes (\n",
    "            incident_number INTEGER PRIMARY KEY,\n",
    "            offense_code INTEGER,\n",
    "            description VARCHAR(100),\n",
    "            date DATE,\n",
    "            day_of_the_week weekday,\n",
    "            lat decimal,\n",
    "            long decimal\n",
    "            );\n",
    "    '''\n",
    "               )\n",
    "except: pass"
   ]
  },
  {
   "cell_type": "markdown",
   "metadata": {},
   "source": [
    "We will now copy the data from our CSV file into our database."
   ]
  },
  {
   "cell_type": "code",
   "execution_count": null,
   "metadata": {
    "collapsed": false
   },
   "outputs": [],
   "source": [
    "try:\n",
    "    # Copying the data in\n",
    "    with open('boston.csv') as f:\n",
    "        cur.copy_expert('COPY crimes.boston_crimes FROM STDIN WITH CSV HEADER;', f)\n",
    "\n",
    "    # Checking if it is loaded\n",
    "    cur.execute(\"SELECT * FROM crimes.boston_crimes\")\n",
    "    print(len(cur.fetchall()))\n",
    "except: pass"
   ]
  },
  {
   "cell_type": "markdown",
   "metadata": {},
   "source": [
    "## Setting the Privileges and Permissions\n",
    "Now it is time to handle users. Our goal is to create the two user groups that we have learned about: `readonly` and `readwrite`. By following the least privilege principle, the first step in doing so is to make sure that there are no privileges inherited from the `public` group and on the `public` schema."
   ]
  },
  {
   "cell_type": "code",
   "execution_count": null,
   "metadata": {
    "collapsed": false
   },
   "outputs": [],
   "source": [
    "# Revoking all privileges from the public group\n",
    "cur.execute('REVOKE ALL ON SCHEMA public FROM public;')\n",
    "\n",
    "# REvoking privileges of public from the database\n",
    "cur.execute('REVOKE ALL ON DATABASE crime_db FROM public;')"
   ]
  },
  {
   "cell_type": "markdown",
   "metadata": {},
   "source": [
    "We will now create two groups:\n",
    "- `readonly` will only have the ability to select\n",
    "- `readwrite` will have the ability to select, insert, delete, and update\n",
    "\n",
    "Logically, we will also grant connection to the database as well as the usage of our schema."
   ]
  },
  {
   "cell_type": "code",
   "execution_count": null,
   "metadata": {
    "collapsed": false
   },
   "outputs": [],
   "source": [
    "try:\n",
    "    # Creating the groups\n",
    "    cur.execute('CREATE GROUP readonly NOLOGIN;')\n",
    "    cur.execute('CREATE GROUP readwrite NOLOGIN;')\n",
    "\n",
    "    # Granting connections to the database\n",
    "    cur.execute('GRANT CONNECT ON DATABASE crime_db TO readonly;')\n",
    "    cur.execute('GRANT CONNECT ON DATABASE crime_db TO readwrite;')\n",
    "\n",
    "    # Granting usage of the schema\n",
    "    cur.execute('GRANT USAGE ON SCHEMA crimes TO readonly;')\n",
    "    cur.execute('GRANT USAGE ON SCHEMA crimes TO readwrite;')\n",
    "\n",
    "    # Changing the permissions\n",
    "    cur.execute(\"GRANT SELECT ON ALL TABLES IN SCHEMA crimes TO readonly;\")\n",
    "    cur.execute(\"GRANT SELECT, INSERT, UPDATE, DELETE ON ALL TABLES IN SCHEMA crimes TO readwrite;\")\n",
    "except: pass"
   ]
  },
  {
   "cell_type": "markdown",
   "metadata": {},
   "source": [
    "Let's wrap up the project by creating one user in each group. We will need to create each user and then assign them to each group."
   ]
  },
  {
   "cell_type": "code",
   "execution_count": null,
   "metadata": {
    "collapsed": true
   },
   "outputs": [],
   "source": [
    "try:\n",
    "    # Creating the data_analyst user\n",
    "    cur.execute(\"CREATE USER data_analyst WITH PASSWORD 'secret1';\")\n",
    "    cur.execute(\"GRANT readonly TO data_analyst\")\n",
    "\n",
    "    # Creating the data_scientist user\n",
    "    cur.execute(\"CREATE USER data_scientist WITH PASSWORD 'secret2';\")\n",
    "    cur.execute(\"GRANT readwrite TO data_scientist\")\n",
    "except: pass"
   ]
  },
  {
   "cell_type": "markdown",
   "metadata": {},
   "source": [
    "## Testing the Privilleges\n",
    "It is a good practice to test that everything is configured as expected when you finish setting up the database. \n",
    "\n",
    "We can use SQL queries to check whether the objects have been created and that users and groups have the right privileges. This requires you to know the Postgres internal tables. We can query the `pg_roles` table to inspect privileges related to the database and the `information_schema.table_privileges` table to inspect table privileges."
   ]
  },
  {
   "cell_type": "code",
   "execution_count": null,
   "metadata": {
    "collapsed": false
   },
   "outputs": [],
   "source": [
    "# close the old connection to test with a brand new connection\n",
    "conn.close()\n",
    "\n",
    "conn = psycopg2.connect(dbname=\"crime_db\", user=\"dq\")\n",
    "cur = conn.cursor()\n",
    "# check users and groups\n",
    "cur.execute(\"\"\"\n",
    "    SELECT rolname, rolsuper, rolcreaterole, rolcreatedb, rolcanlogin FROM pg_roles\n",
    "    WHERE rolname IN ('readonly', 'readwrite', 'data_analyst', 'data_scientist');\n",
    "\"\"\")\n",
    "for user in cur:\n",
    "    print(user)\n",
    "print()\n",
    "# check privileges\n",
    "cur.execute(\"\"\"\n",
    "    SELECT grantee, privilege_type\n",
    "    FROM information_schema.table_privileges\n",
    "    WHERE grantee IN ('readonly', 'readwrite');\n",
    "\"\"\")\n",
    "for user in cur:\n",
    "    print(user)\n",
    "conn.close()"
   ]
  }
 ],
 "metadata": {
  "kernelspec": {
   "display_name": "Python 3",
   "language": "python",
   "name": "python3"
  },
  "language_info": {
   "codemirror_mode": {
    "name": "ipython",
    "version": 3
   },
   "file_extension": ".py",
   "mimetype": "text/x-python",
   "name": "python",
   "nbconvert_exporter": "python",
   "pygments_lexer": "ipython3",
   "version": "3.4.3"
  }
 },
 "nbformat": 4,
 "nbformat_minor": 2
}
